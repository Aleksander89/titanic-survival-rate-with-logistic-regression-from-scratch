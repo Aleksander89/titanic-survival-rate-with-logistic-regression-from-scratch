{
 "cells": [
  {
   "cell_type": "code",
   "execution_count": 531,
   "metadata": {},
   "outputs": [],
   "source": [
    "import numpy as np\n",
    "import pandas as pd\n",
    "import matplotlib.pyplot as plt\n",
    "import seaborn as sns"
   ]
  },
  {
   "cell_type": "code",
   "execution_count": 532,
   "metadata": {},
   "outputs": [],
   "source": [
    "titanic = pd.read_csv('data/titanic_clean.csv')"
   ]
  },
  {
   "cell_type": "code",
   "execution_count": 533,
   "metadata": {},
   "outputs": [
    {
     "data": {
      "text/html": [
       "<div>\n",
       "<style scoped>\n",
       "    .dataframe tbody tr th:only-of-type {\n",
       "        vertical-align: middle;\n",
       "    }\n",
       "\n",
       "    .dataframe tbody tr th {\n",
       "        vertical-align: top;\n",
       "    }\n",
       "\n",
       "    .dataframe thead th {\n",
       "        text-align: right;\n",
       "    }\n",
       "</style>\n",
       "<table border=\"1\" class=\"dataframe\">\n",
       "  <thead>\n",
       "    <tr style=\"text-align: right;\">\n",
       "      <th></th>\n",
       "      <th>Passengerid</th>\n",
       "      <th>Pclass</th>\n",
       "      <th>Survived</th>\n",
       "      <th>Sex</th>\n",
       "      <th>Age</th>\n",
       "      <th>Sibsp</th>\n",
       "      <th>Parch</th>\n",
       "      <th>Ticket</th>\n",
       "      <th>Fare</th>\n",
       "      <th>Cabin</th>\n",
       "      <th>Embarked</th>\n",
       "    </tr>\n",
       "  </thead>\n",
       "  <tbody>\n",
       "    <tr>\n",
       "      <th>0</th>\n",
       "      <td>1</td>\n",
       "      <td>1</td>\n",
       "      <td>1</td>\n",
       "      <td>female</td>\n",
       "      <td>29.0000</td>\n",
       "      <td>0</td>\n",
       "      <td>0</td>\n",
       "      <td>24160</td>\n",
       "      <td>211.3375</td>\n",
       "      <td>B5</td>\n",
       "      <td>S</td>\n",
       "    </tr>\n",
       "    <tr>\n",
       "      <th>1</th>\n",
       "      <td>2</td>\n",
       "      <td>1</td>\n",
       "      <td>1</td>\n",
       "      <td>male</td>\n",
       "      <td>0.9167</td>\n",
       "      <td>1</td>\n",
       "      <td>2</td>\n",
       "      <td>113781</td>\n",
       "      <td>151.5500</td>\n",
       "      <td>C22 C26</td>\n",
       "      <td>S</td>\n",
       "    </tr>\n",
       "    <tr>\n",
       "      <th>2</th>\n",
       "      <td>3</td>\n",
       "      <td>1</td>\n",
       "      <td>0</td>\n",
       "      <td>female</td>\n",
       "      <td>2.0000</td>\n",
       "      <td>1</td>\n",
       "      <td>2</td>\n",
       "      <td>113781</td>\n",
       "      <td>151.5500</td>\n",
       "      <td>C22 C26</td>\n",
       "      <td>S</td>\n",
       "    </tr>\n",
       "    <tr>\n",
       "      <th>3</th>\n",
       "      <td>4</td>\n",
       "      <td>1</td>\n",
       "      <td>0</td>\n",
       "      <td>male</td>\n",
       "      <td>30.0000</td>\n",
       "      <td>1</td>\n",
       "      <td>2</td>\n",
       "      <td>113781</td>\n",
       "      <td>151.5500</td>\n",
       "      <td>C22 C26</td>\n",
       "      <td>S</td>\n",
       "    </tr>\n",
       "    <tr>\n",
       "      <th>4</th>\n",
       "      <td>5</td>\n",
       "      <td>1</td>\n",
       "      <td>0</td>\n",
       "      <td>female</td>\n",
       "      <td>25.0000</td>\n",
       "      <td>1</td>\n",
       "      <td>2</td>\n",
       "      <td>113781</td>\n",
       "      <td>151.5500</td>\n",
       "      <td>C22 C26</td>\n",
       "      <td>S</td>\n",
       "    </tr>\n",
       "  </tbody>\n",
       "</table>\n",
       "</div>"
      ],
      "text/plain": [
       "   Passengerid  Pclass  Survived     Sex      Age  Sibsp  Parch  Ticket  \\\n",
       "0            1       1         1  female  29.0000      0      0   24160   \n",
       "1            2       1         1    male   0.9167      1      2  113781   \n",
       "2            3       1         0  female   2.0000      1      2  113781   \n",
       "3            4       1         0    male  30.0000      1      2  113781   \n",
       "4            5       1         0  female  25.0000      1      2  113781   \n",
       "\n",
       "       Fare    Cabin Embarked  \n",
       "0  211.3375       B5        S  \n",
       "1  151.5500  C22 C26        S  \n",
       "2  151.5500  C22 C26        S  \n",
       "3  151.5500  C22 C26        S  \n",
       "4  151.5500  C22 C26        S  "
      ]
     },
     "execution_count": 533,
     "metadata": {},
     "output_type": "execute_result"
    }
   ],
   "source": [
    "titanic.head()"
   ]
  },
  {
   "cell_type": "markdown",
   "metadata": {},
   "source": [
    "## Exploratory Data Analysis"
   ]
  },
  {
   "cell_type": "code",
   "execution_count": 534,
   "metadata": {},
   "outputs": [
    {
     "data": {
      "text/plain": [
       "Passengerid       0\n",
       "Pclass            0\n",
       "Survived          0\n",
       "Sex               0\n",
       "Age             263\n",
       "Sibsp             0\n",
       "Parch             0\n",
       "Ticket            0\n",
       "Fare              1\n",
       "Cabin          1014\n",
       "Embarked          2\n",
       "dtype: int64"
      ]
     },
     "execution_count": 534,
     "metadata": {},
     "output_type": "execute_result"
    }
   ],
   "source": [
    "titanic.isna().sum()"
   ]
  },
  {
   "cell_type": "code",
   "execution_count": 535,
   "metadata": {},
   "outputs": [
    {
     "data": {
      "text/html": [
       "<div>\n",
       "<style scoped>\n",
       "    .dataframe tbody tr th:only-of-type {\n",
       "        vertical-align: middle;\n",
       "    }\n",
       "\n",
       "    .dataframe tbody tr th {\n",
       "        vertical-align: top;\n",
       "    }\n",
       "\n",
       "    .dataframe thead th {\n",
       "        text-align: right;\n",
       "    }\n",
       "</style>\n",
       "<table border=\"1\" class=\"dataframe\">\n",
       "  <thead>\n",
       "    <tr style=\"text-align: right;\">\n",
       "      <th></th>\n",
       "      <th>Passengerid</th>\n",
       "      <th>Pclass</th>\n",
       "      <th>Survived</th>\n",
       "      <th>Age</th>\n",
       "      <th>Sibsp</th>\n",
       "      <th>Parch</th>\n",
       "      <th>Fare</th>\n",
       "    </tr>\n",
       "  </thead>\n",
       "  <tbody>\n",
       "    <tr>\n",
       "      <th>Passengerid</th>\n",
       "      <td>1.000000</td>\n",
       "      <td>0.897822</td>\n",
       "      <td>-0.293717</td>\n",
       "      <td>-0.343888</td>\n",
       "      <td>0.065594</td>\n",
       "      <td>0.003584</td>\n",
       "      <td>-0.481215</td>\n",
       "    </tr>\n",
       "    <tr>\n",
       "      <th>Pclass</th>\n",
       "      <td>0.897822</td>\n",
       "      <td>1.000000</td>\n",
       "      <td>-0.312469</td>\n",
       "      <td>-0.408106</td>\n",
       "      <td>0.060832</td>\n",
       "      <td>0.018322</td>\n",
       "      <td>-0.558629</td>\n",
       "    </tr>\n",
       "    <tr>\n",
       "      <th>Survived</th>\n",
       "      <td>-0.293717</td>\n",
       "      <td>-0.312469</td>\n",
       "      <td>1.000000</td>\n",
       "      <td>-0.055513</td>\n",
       "      <td>-0.027825</td>\n",
       "      <td>0.082660</td>\n",
       "      <td>0.244265</td>\n",
       "    </tr>\n",
       "    <tr>\n",
       "      <th>Age</th>\n",
       "      <td>-0.343888</td>\n",
       "      <td>-0.408106</td>\n",
       "      <td>-0.055513</td>\n",
       "      <td>1.000000</td>\n",
       "      <td>-0.243699</td>\n",
       "      <td>-0.150917</td>\n",
       "      <td>0.178739</td>\n",
       "    </tr>\n",
       "    <tr>\n",
       "      <th>Sibsp</th>\n",
       "      <td>0.065594</td>\n",
       "      <td>0.060832</td>\n",
       "      <td>-0.027825</td>\n",
       "      <td>-0.243699</td>\n",
       "      <td>1.000000</td>\n",
       "      <td>0.373587</td>\n",
       "      <td>0.160238</td>\n",
       "    </tr>\n",
       "    <tr>\n",
       "      <th>Parch</th>\n",
       "      <td>0.003584</td>\n",
       "      <td>0.018322</td>\n",
       "      <td>0.082660</td>\n",
       "      <td>-0.150917</td>\n",
       "      <td>0.373587</td>\n",
       "      <td>1.000000</td>\n",
       "      <td>0.221539</td>\n",
       "    </tr>\n",
       "    <tr>\n",
       "      <th>Fare</th>\n",
       "      <td>-0.481215</td>\n",
       "      <td>-0.558629</td>\n",
       "      <td>0.244265</td>\n",
       "      <td>0.178739</td>\n",
       "      <td>0.160238</td>\n",
       "      <td>0.221539</td>\n",
       "      <td>1.000000</td>\n",
       "    </tr>\n",
       "  </tbody>\n",
       "</table>\n",
       "</div>"
      ],
      "text/plain": [
       "             Passengerid    Pclass  Survived       Age     Sibsp     Parch  \\\n",
       "Passengerid     1.000000  0.897822 -0.293717 -0.343888  0.065594  0.003584   \n",
       "Pclass          0.897822  1.000000 -0.312469 -0.408106  0.060832  0.018322   \n",
       "Survived       -0.293717 -0.312469  1.000000 -0.055513 -0.027825  0.082660   \n",
       "Age            -0.343888 -0.408106 -0.055513  1.000000 -0.243699 -0.150917   \n",
       "Sibsp           0.065594  0.060832 -0.027825 -0.243699  1.000000  0.373587   \n",
       "Parch           0.003584  0.018322  0.082660 -0.150917  0.373587  1.000000   \n",
       "Fare           -0.481215 -0.558629  0.244265  0.178739  0.160238  0.221539   \n",
       "\n",
       "                 Fare  \n",
       "Passengerid -0.481215  \n",
       "Pclass      -0.558629  \n",
       "Survived     0.244265  \n",
       "Age          0.178739  \n",
       "Sibsp        0.160238  \n",
       "Parch        0.221539  \n",
       "Fare         1.000000  "
      ]
     },
     "execution_count": 535,
     "metadata": {},
     "output_type": "execute_result"
    }
   ],
   "source": [
    "titanic.corr()"
   ]
  },
  {
   "cell_type": "code",
   "execution_count": 536,
   "metadata": {},
   "outputs": [
    {
     "data": {
      "text/html": [
       "<div>\n",
       "<style scoped>\n",
       "    .dataframe tbody tr th:only-of-type {\n",
       "        vertical-align: middle;\n",
       "    }\n",
       "\n",
       "    .dataframe tbody tr th {\n",
       "        vertical-align: top;\n",
       "    }\n",
       "\n",
       "    .dataframe thead th {\n",
       "        text-align: right;\n",
       "    }\n",
       "</style>\n",
       "<table border=\"1\" class=\"dataframe\">\n",
       "  <thead>\n",
       "    <tr style=\"text-align: right;\">\n",
       "      <th></th>\n",
       "      <th>Passengerid</th>\n",
       "      <th>Pclass</th>\n",
       "      <th>Survived</th>\n",
       "      <th>Age</th>\n",
       "      <th>Sibsp</th>\n",
       "      <th>Parch</th>\n",
       "      <th>Fare</th>\n",
       "    </tr>\n",
       "  </thead>\n",
       "  <tbody>\n",
       "    <tr>\n",
       "      <th>count</th>\n",
       "      <td>1309.000000</td>\n",
       "      <td>1309.000000</td>\n",
       "      <td>1309.000000</td>\n",
       "      <td>1046.000000</td>\n",
       "      <td>1309.000000</td>\n",
       "      <td>1309.000000</td>\n",
       "      <td>1308.000000</td>\n",
       "    </tr>\n",
       "    <tr>\n",
       "      <th>mean</th>\n",
       "      <td>655.000000</td>\n",
       "      <td>2.294882</td>\n",
       "      <td>0.381971</td>\n",
       "      <td>29.881135</td>\n",
       "      <td>0.498854</td>\n",
       "      <td>0.385027</td>\n",
       "      <td>33.295479</td>\n",
       "    </tr>\n",
       "    <tr>\n",
       "      <th>std</th>\n",
       "      <td>378.020061</td>\n",
       "      <td>0.837836</td>\n",
       "      <td>0.486055</td>\n",
       "      <td>14.413500</td>\n",
       "      <td>1.041658</td>\n",
       "      <td>0.865560</td>\n",
       "      <td>51.758668</td>\n",
       "    </tr>\n",
       "    <tr>\n",
       "      <th>min</th>\n",
       "      <td>1.000000</td>\n",
       "      <td>1.000000</td>\n",
       "      <td>0.000000</td>\n",
       "      <td>0.166700</td>\n",
       "      <td>0.000000</td>\n",
       "      <td>0.000000</td>\n",
       "      <td>0.000000</td>\n",
       "    </tr>\n",
       "    <tr>\n",
       "      <th>25%</th>\n",
       "      <td>328.000000</td>\n",
       "      <td>2.000000</td>\n",
       "      <td>0.000000</td>\n",
       "      <td>21.000000</td>\n",
       "      <td>0.000000</td>\n",
       "      <td>0.000000</td>\n",
       "      <td>7.895800</td>\n",
       "    </tr>\n",
       "    <tr>\n",
       "      <th>50%</th>\n",
       "      <td>655.000000</td>\n",
       "      <td>3.000000</td>\n",
       "      <td>0.000000</td>\n",
       "      <td>28.000000</td>\n",
       "      <td>0.000000</td>\n",
       "      <td>0.000000</td>\n",
       "      <td>14.454200</td>\n",
       "    </tr>\n",
       "    <tr>\n",
       "      <th>75%</th>\n",
       "      <td>982.000000</td>\n",
       "      <td>3.000000</td>\n",
       "      <td>1.000000</td>\n",
       "      <td>39.000000</td>\n",
       "      <td>1.000000</td>\n",
       "      <td>0.000000</td>\n",
       "      <td>31.275000</td>\n",
       "    </tr>\n",
       "    <tr>\n",
       "      <th>max</th>\n",
       "      <td>1309.000000</td>\n",
       "      <td>3.000000</td>\n",
       "      <td>1.000000</td>\n",
       "      <td>80.000000</td>\n",
       "      <td>8.000000</td>\n",
       "      <td>9.000000</td>\n",
       "      <td>512.329200</td>\n",
       "    </tr>\n",
       "  </tbody>\n",
       "</table>\n",
       "</div>"
      ],
      "text/plain": [
       "       Passengerid       Pclass     Survived          Age        Sibsp  \\\n",
       "count  1309.000000  1309.000000  1309.000000  1046.000000  1309.000000   \n",
       "mean    655.000000     2.294882     0.381971    29.881135     0.498854   \n",
       "std     378.020061     0.837836     0.486055    14.413500     1.041658   \n",
       "min       1.000000     1.000000     0.000000     0.166700     0.000000   \n",
       "25%     328.000000     2.000000     0.000000    21.000000     0.000000   \n",
       "50%     655.000000     3.000000     0.000000    28.000000     0.000000   \n",
       "75%     982.000000     3.000000     1.000000    39.000000     1.000000   \n",
       "max    1309.000000     3.000000     1.000000    80.000000     8.000000   \n",
       "\n",
       "             Parch         Fare  \n",
       "count  1309.000000  1308.000000  \n",
       "mean      0.385027    33.295479  \n",
       "std       0.865560    51.758668  \n",
       "min       0.000000     0.000000  \n",
       "25%       0.000000     7.895800  \n",
       "50%       0.000000    14.454200  \n",
       "75%       0.000000    31.275000  \n",
       "max       9.000000   512.329200  "
      ]
     },
     "execution_count": 536,
     "metadata": {},
     "output_type": "execute_result"
    }
   ],
   "source": [
    "titanic.describe()"
   ]
  },
  {
   "cell_type": "code",
   "execution_count": 537,
   "metadata": {},
   "outputs": [
    {
     "name": "stdout",
     "output_type": "stream",
     "text": [
      "<class 'pandas.core.frame.DataFrame'>\n",
      "RangeIndex: 1309 entries, 0 to 1308\n",
      "Data columns (total 11 columns):\n",
      " #   Column       Non-Null Count  Dtype  \n",
      "---  ------       --------------  -----  \n",
      " 0   Passengerid  1309 non-null   int64  \n",
      " 1   Pclass       1309 non-null   int64  \n",
      " 2   Survived     1309 non-null   int64  \n",
      " 3   Sex          1309 non-null   object \n",
      " 4   Age          1046 non-null   float64\n",
      " 5   Sibsp        1309 non-null   int64  \n",
      " 6   Parch        1309 non-null   int64  \n",
      " 7   Ticket       1309 non-null   object \n",
      " 8   Fare         1308 non-null   float64\n",
      " 9   Cabin        295 non-null    object \n",
      " 10  Embarked     1307 non-null   object \n",
      "dtypes: float64(2), int64(5), object(4)\n",
      "memory usage: 112.6+ KB\n"
     ]
    }
   ],
   "source": [
    "titanic.info()"
   ]
  },
  {
   "cell_type": "code",
   "execution_count": 538,
   "metadata": {},
   "outputs": [],
   "source": [
    "#upper_outlier = train_df.Fare.quantile(0.95)\n",
    "#train_data = train_df[train_df.Fare < upper_outlier].copy()"
   ]
  },
  {
   "cell_type": "markdown",
   "metadata": {},
   "source": [
    "## Handling missing values for age and fare"
   ]
  },
  {
   "cell_type": "code",
   "execution_count": 539,
   "metadata": {},
   "outputs": [],
   "source": [
    "titanic.Age.fillna(titanic.groupby(['Pclass']).Age.transform('mean'), inplace = True)"
   ]
  },
  {
   "cell_type": "code",
   "execution_count": 540,
   "metadata": {},
   "outputs": [
    {
     "data": {
      "text/plain": [
       "0"
      ]
     },
     "execution_count": 540,
     "metadata": {},
     "output_type": "execute_result"
    }
   ],
   "source": [
    "sum(titanic.Age.isna())"
   ]
  },
  {
   "cell_type": "code",
   "execution_count": 541,
   "metadata": {},
   "outputs": [],
   "source": [
    "titanic.Fare.fillna(titanic.groupby(['Pclass']).Fare.transform('mean'), inplace = True)"
   ]
  },
  {
   "cell_type": "code",
   "execution_count": 542,
   "metadata": {},
   "outputs": [
    {
     "data": {
      "text/plain": [
       "0"
      ]
     },
     "execution_count": 542,
     "metadata": {},
     "output_type": "execute_result"
    }
   ],
   "source": [
    "sum(titanic.Fare.isna())"
   ]
  },
  {
   "cell_type": "markdown",
   "metadata": {},
   "source": [
    "## Handling missing values in Cabin-column by dropping the whole column"
   ]
  },
  {
   "cell_type": "code",
   "execution_count": 543,
   "metadata": {},
   "outputs": [],
   "source": [
    "titanic.drop(columns=['Cabin'], inplace = True)"
   ]
  },
  {
   "cell_type": "markdown",
   "metadata": {},
   "source": [
    "## Feature engineering"
   ]
  },
  {
   "cell_type": "code",
   "execution_count": null,
   "metadata": {},
   "outputs": [],
   "source": []
  },
  {
   "cell_type": "markdown",
   "metadata": {},
   "source": [
    "# Implementing logistic regression from scratch"
   ]
  },
  {
   "cell_type": "code",
   "execution_count": 544,
   "metadata": {},
   "outputs": [],
   "source": [
    "def sigmoid(z):\n",
    "    return 1/(1+np.exp(-z))"
   ]
  },
  {
   "cell_type": "code",
   "execution_count": 545,
   "metadata": {},
   "outputs": [],
   "source": [
    "def calculate_loss(Y, y_hat):\n",
    "    \"\"\"Calculates the binary cross entropy loss\"\"\"\n",
    "    m = len(Y)\n",
    "    loss = (-1/m)*np.sum((Y*np.log(y_hat)) + (1-Y)*np.log(1-y_hat))\n",
    "    return loss"
   ]
  },
  {
   "cell_type": "code",
   "execution_count": 546,
   "metadata": {},
   "outputs": [],
   "source": [
    "def gradient_descent(X, Y, num_iterations=50000, learning_rate=0.001, plot_cost=True):\n",
    "    X = np.vstack([np.ones(X.shape[0]), X.T])\n",
    "    theta = np.zeros(X.shape[0]).reshape(-1, 1) # initializing weights and bias\n",
    "    m = len(Y)\n",
    "    costs = []\n",
    "    \n",
    "    y_hat = sigmoid(np.dot(X.T, theta))\n",
    "    cost = calculate_loss(Y, y_hat)\n",
    "    \n",
    "    for i in range(num_iterations):\n",
    "        theta = theta - learning_rate*((1/m)*np.dot(X, (y_hat-Y)))\n",
    "        y_hat = sigmoid(np.dot(X.T, theta))\n",
    "        cost = calculate_loss(Y, y_hat)\n",
    "        \n",
    "        if plot_cost and i % 1000 == 0:\n",
    "            print(f'The cost at iteration {i} is {cost}')\n",
    "        if plot_cost and i % 10 == 0:\n",
    "            costs.append(cost)\n",
    "        \n",
    "    if plot_cost:\n",
    "        plt.plot(costs)\n",
    "        plt.xlabel('Number of iterations (per tenth)')\n",
    "        plt.ylabel('Cost')\n",
    "        plt.title('Learning rate = ' + str(learning_rate))\n",
    "    \n",
    "    return y_hat, theta, cost"
   ]
  },
  {
   "cell_type": "code",
   "execution_count": 547,
   "metadata": {},
   "outputs": [],
   "source": [
    "def predict(X, model, decision_boundary=0.5):\n",
    "    X = np.vstack([np.ones(X.shape[0]), X.T])\n",
    "    y_hat = sigmoid(np.dot(X.T, model))\n",
    "    return np.where(y_hat > decision_boundary, 1, 0)"
   ]
  },
  {
   "cell_type": "code",
   "execution_count": 548,
   "metadata": {},
   "outputs": [],
   "source": [
    "def score():\n",
    "    pass"
   ]
  },
  {
   "cell_type": "markdown",
   "metadata": {},
   "source": [
    "## Splitting dataset into train- and test-sets."
   ]
  },
  {
   "cell_type": "code",
   "execution_count": 549,
   "metadata": {},
   "outputs": [
    {
     "data": {
      "text/plain": [
       "(1309, 10)"
      ]
     },
     "execution_count": 549,
     "metadata": {},
     "output_type": "execute_result"
    }
   ],
   "source": [
    "titanic.shape"
   ]
  },
  {
   "cell_type": "code",
   "execution_count": 550,
   "metadata": {},
   "outputs": [],
   "source": [
    "def shuffle_and_split_data(X, y, train_size):\n",
    "    X_train = X.sample(frac=train_size, random_state = 42)\n",
    "    X_test = X.loc[~X.index.isin(X_train.index)].copy()\n",
    "    X_test = X_test.sample(frac=1, random_state = 42)\n",
    "    \n",
    "    y_train = y.sample(frac=train_size, random_state = 42)\n",
    "    y_test = y.loc[~y.index.isin(y_train)].copy()\n",
    "    y_test = y_test.sample(frac=1, random_state = 42)\n",
    "    \n",
    "    return (X_train, X_test, y_train, y_test)"
   ]
  },
  {
   "cell_type": "markdown",
   "metadata": {},
   "source": [
    "# Training the model"
   ]
  },
  {
   "cell_type": "code",
   "execution_count": 551,
   "metadata": {},
   "outputs": [],
   "source": [
    "y = titanic['Survived'].values.reshape(-1,1)\n",
    "dummies = pd.get_dummies(titanic[['Pclass', 'Sex', 'Embarked']], drop_first=True)\n",
    "X = pd.concat([dummies, titanic[['Age', 'Fare', 'Sibsp', 'Parch']]], axis=1).values"
   ]
  },
  {
   "cell_type": "code",
   "execution_count": 552,
   "metadata": {},
   "outputs": [],
   "source": [
    "from sklearn.model_selection import train_test_split"
   ]
  },
  {
   "cell_type": "code",
   "execution_count": 553,
   "metadata": {},
   "outputs": [],
   "source": [
    "X_train, X_test, y_train, y_test = train_test_split(X, y, test_size = 0.3, random_state = 42)"
   ]
  },
  {
   "cell_type": "code",
   "execution_count": 554,
   "metadata": {},
   "outputs": [
    {
     "data": {
      "text/plain": [
       "((916, 8), (393, 8), (916, 1), (393, 1))"
      ]
     },
     "execution_count": 554,
     "metadata": {},
     "output_type": "execute_result"
    }
   ],
   "source": [
    "X_train.shape, X_test.shape, y_train.shape, y_test.shape"
   ]
  },
  {
   "cell_type": "code",
   "execution_count": 562,
   "metadata": {},
   "outputs": [
    {
     "name": "stdout",
     "output_type": "stream",
     "text": [
      "The cost at iteration 0 is 0.6606250986251201\n",
      "The cost at iteration 1000 is 0.5817008249752409\n",
      "The cost at iteration 2000 is 0.5648435091325703\n",
      "The cost at iteration 3000 is 0.552994707159948\n",
      "The cost at iteration 4000 is 0.5434793276456149\n",
      "The cost at iteration 5000 is 0.5356167689004834\n",
      "The cost at iteration 6000 is 0.5290417455016381\n",
      "The cost at iteration 7000 is 0.5234981044549833\n",
      "The cost at iteration 8000 is 0.5187924194936945\n",
      "The cost at iteration 9000 is 0.5147739626570523\n",
      "The cost at iteration 10000 is 0.5113230206030456\n",
      "The cost at iteration 11000 is 0.5083432763816896\n",
      "The cost at iteration 12000 is 0.5057565235750646\n",
      "The cost at iteration 13000 is 0.503498828964322\n",
      "The cost at iteration 14000 is 0.5015176512163165\n",
      "The cost at iteration 15000 is 0.4997696239960149\n",
      "The cost at iteration 16000 is 0.4982188205555483\n",
      "The cost at iteration 17000 is 0.4968353784887659\n",
      "The cost at iteration 18000 is 0.4955944002080026\n",
      "The cost at iteration 19000 is 0.49447506800547386\n",
      "The cost at iteration 20000 is 0.4934599280920969\n",
      "The cost at iteration 21000 is 0.49253430884186444\n",
      "The cost at iteration 22000 is 0.49168584631423423\n",
      "The cost at iteration 23000 is 0.490904095967462\n",
      "The cost at iteration 24000 is 0.49018021391421146\n",
      "The cost at iteration 25000 is 0.4895066944935522\n",
      "The cost at iteration 26000 is 0.48887715360095246\n",
      "The cost at iteration 27000 is 0.4882861493128704\n",
      "The cost at iteration 28000 is 0.48772903299757164\n",
      "The cost at iteration 29000 is 0.4872018254173757\n",
      "The cost at iteration 30000 is 0.4867011133741657\n",
      "The cost at iteration 31000 is 0.4862239632868025\n",
      "The cost at iteration 32000 is 0.48576784876022544\n",
      "The cost at iteration 33000 is 0.48533058974588145\n",
      "The cost at iteration 34000 is 0.4849103013286087\n",
      "The cost at iteration 35000 is 0.48450535052735993\n",
      "The cost at iteration 36000 is 0.48411431978285935\n",
      "The cost at iteration 37000 is 0.4837359760376219\n",
      "The cost at iteration 38000 is 0.48336924450320806\n",
      "The cost at iteration 39000 is 0.48301318636443036\n",
      "The cost at iteration 40000 is 0.48266697979713763\n",
      "The cost at iteration 41000 is 0.48232990378045065\n",
      "The cost at iteration 42000 is 0.4820013242701843\n",
      "The cost at iteration 43000 is 0.48168068237106676\n",
      "The cost at iteration 44000 is 0.48136748420401093\n",
      "The cost at iteration 45000 is 0.481061292213331\n",
      "The cost at iteration 46000 is 0.48076171769922316\n",
      "The cost at iteration 47000 is 0.4804684143945022\n",
      "The cost at iteration 48000 is 0.4801810729326974\n",
      "The cost at iteration 49000 is 0.47989941607812203\n",
      "The cost at iteration 50000 is 0.4796231946082396\n",
      "The cost at iteration 51000 is 0.4793521837552007\n",
      "The cost at iteration 52000 is 0.47908618012734583\n",
      "The cost at iteration 53000 is 0.4788249990432124\n",
      "The cost at iteration 54000 is 0.4785684722204905\n",
      "The cost at iteration 55000 is 0.4783164457707591\n",
      "The cost at iteration 56000 is 0.4780687784579386\n",
      "The cost at iteration 57000 is 0.47782534018442147\n",
      "The cost at iteration 58000 is 0.4775860106739715\n",
      "The cost at iteration 59000 is 0.4773506783248421\n",
      "The cost at iteration 60000 is 0.47711923921028465\n",
      "The cost at iteration 61000 is 0.4768915962067953\n",
      "The cost at iteration 62000 is 0.47666765823315954\n",
      "The cost at iteration 63000 is 0.47644733958568475\n",
      "The cost at iteration 64000 is 0.47623055935699693\n",
      "The cost at iteration 65000 is 0.47601724092749315\n",
      "The cost at iteration 66000 is 0.475807311520008\n",
      "The cost at iteration 67000 is 0.4756007018095185\n",
      "The cost at iteration 68000 is 0.4753973455807994\n",
      "The cost at iteration 69000 is 0.4751971794278793\n",
      "The cost at iteration 70000 is 0.47500014248996264\n",
      "The cost at iteration 71000 is 0.4748061762191748\n",
      "The cost at iteration 72000 is 0.4746152241761013\n",
      "The cost at iteration 73000 is 0.47442723184961094\n",
      "The cost at iteration 74000 is 0.474242146497907\n",
      "The cost at iteration 75000 is 0.4740599170081473\n",
      "The cost at iteration 76000 is 0.47388049377231184\n",
      "The cost at iteration 77000 is 0.47370382857729587\n",
      "The cost at iteration 78000 is 0.4735298745074625\n",
      "The cost at iteration 79000 is 0.4733585858581129\n",
      "The cost at iteration 80000 is 0.47318991805853095\n",
      "The cost at iteration 81000 is 0.47302382760342115\n",
      "The cost at iteration 82000 is 0.4728602719917164\n",
      "The cost at iteration 83000 is 0.4726992096718532\n",
      "The cost at iteration 84000 is 0.4725405999927285\n",
      "The cost at iteration 85000 is 0.4723844031596502\n",
      "The cost at iteration 86000 is 0.4722305801946773\n",
      "The cost at iteration 87000 is 0.47207909290082295\n",
      "The cost at iteration 88000 is 0.47192990382965777\n",
      "The cost at iteration 89000 is 0.47178297625190746\n",
      "The cost at iteration 90000 is 0.47163827413069076\n",
      "The cost at iteration 91000 is 0.4714957620970861\n",
      "The cost at iteration 92000 is 0.47135540542775284\n",
      "The cost at iteration 93000 is 0.47121717002436936\n",
      "The cost at iteration 94000 is 0.4710810223946768\n",
      "The cost at iteration 95000 is 0.47094692963494517\n",
      "The cost at iteration 96000 is 0.4708148594136982\n",
      "The cost at iteration 97000 is 0.4706847799565572\n",
      "The cost at iteration 98000 is 0.47055666003207813\n",
      "The cost at iteration 99000 is 0.47043046893847157\n",
      "The cost at iteration 100000 is 0.4703061764911108\n",
      "The cost at iteration 101000 is 0.4701837530107438\n",
      "The cost at iteration 102000 is 0.47006316931233255\n",
      "The cost at iteration 103000 is 0.4699443966944571\n",
      "The cost at iteration 104000 is 0.46982740692922503\n",
      "The cost at iteration 105000 is 0.4697121722526373\n",
      "The cost at iteration 106000 is 0.46959866535536476\n",
      "The cost at iteration 107000 is 0.4694868593738968\n",
      "The cost at iteration 108000 is 0.4693767278820282\n",
      "The cost at iteration 109000 is 0.4692682448826535\n",
      "The cost at iteration 110000 is 0.46916138479984093\n",
      "The cost at iteration 111000 is 0.46905612247116474\n",
      "The cost at iteration 112000 is 0.4689524331402733\n",
      "The cost at iteration 113000 is 0.4688502924496747\n",
      "The cost at iteration 114000 is 0.46874967643372484\n",
      "The cost at iteration 115000 is 0.4686505615118023\n",
      "The cost at iteration 116000 is 0.46855292448165775\n",
      "The cost at iteration 117000 is 0.46845674251292707\n",
      "The cost at iteration 118000 is 0.46836199314079746\n",
      "The cost at iteration 119000 is 0.46826865425981756\n",
      "The cost at iteration 120000 is 0.4681767041178447\n",
      "The cost at iteration 121000 is 0.468086121310121\n",
      "The cost at iteration 122000 is 0.46799688477347284\n",
      "The cost at iteration 123000 is 0.4679089737806267\n",
      "The cost at iteration 124000 is 0.4678223679346389\n",
      "The cost at iteration 125000 is 0.46773704716343084\n",
      "The cost at iteration 126000 is 0.4676529917144301\n",
      "The cost at iteration 127000 is 0.46757018214930895\n",
      "The cost at iteration 128000 is 0.4674885993388207\n",
      "The cost at iteration 129000 is 0.4674082244577289\n",
      "The cost at iteration 130000 is 0.4673290389798264\n",
      "The cost at iteration 131000 is 0.46725102467304247\n",
      "The cost at iteration 132000 is 0.467174163594636\n",
      "The cost at iteration 133000 is 0.4670984380864696\n",
      "The cost at iteration 134000 is 0.46702383077036774\n",
      "The cost at iteration 135000 is 0.4669503245435514\n",
      "The cost at iteration 136000 is 0.46687790257415085\n",
      "The cost at iteration 137000 is 0.4668065482967948\n",
      "The cost at iteration 138000 is 0.4667362454082723\n",
      "The cost at iteration 139000 is 0.4666669778632677\n",
      "The cost at iteration 140000 is 0.4665987298701668\n",
      "The cost at iteration 141000 is 0.4665314858869317\n",
      "The cost at iteration 142000 is 0.4664652306170452\n",
      "The cost at iteration 143000 is 0.4663999490055212\n",
      "The cost at iteration 144000 is 0.4663356262349817\n",
      "The cost at iteration 145000 is 0.4662722477217979\n",
      "The cost at iteration 146000 is 0.4662097991122949\n",
      "The cost at iteration 147000 is 0.46614826627901923\n",
      "The cost at iteration 148000 is 0.4660876353170674\n",
      "The cost at iteration 149000 is 0.4660278925404745\n",
      "The cost at iteration 150000 is 0.4659690244786629\n",
      "The cost at iteration 151000 is 0.4659110178729486\n",
      "The cost at iteration 152000 is 0.4658538596731048\n",
      "The cost at iteration 153000 is 0.4657975370339829\n",
      "The cost at iteration 154000 is 0.46574203731218794\n",
      "The cost at iteration 155000 is 0.46568734806280854\n",
      "The cost at iteration 156000 is 0.46563345703620224\n",
      "The cost at iteration 157000 is 0.46558035217483107\n",
      "The cost at iteration 158000 is 0.4655280216101515\n",
      "The cost at iteration 159000 is 0.4654764536595536\n",
      "The cost at iteration 160000 is 0.46542563682335236\n",
      "The cost at iteration 161000 is 0.46537555978182676\n"
     ]
    },
    {
     "name": "stdout",
     "output_type": "stream",
     "text": [
      "The cost at iteration 162000 is 0.4653262113923087\n",
      "The cost at iteration 163000 is 0.46527758068631897\n",
      "The cost at iteration 164000 is 0.4652296568667517\n",
      "The cost at iteration 165000 is 0.4651824293051035\n",
      "The cost at iteration 166000 is 0.4651358875387496\n",
      "The cost at iteration 167000 is 0.4650900212682637\n",
      "The cost at iteration 168000 is 0.4650448203547834\n",
      "The cost at iteration 169000 is 0.4650002748174174\n",
      "The cost at iteration 170000 is 0.46495637483069674\n",
      "The cost at iteration 171000 is 0.4649131107220681\n",
      "The cost at iteration 172000 is 0.4648704729694266\n",
      "The cost at iteration 173000 is 0.46482845219869207\n",
      "The cost at iteration 174000 is 0.46478703918142333\n",
      "The cost at iteration 175000 is 0.4647462248324722\n",
      "The cost at iteration 176000 is 0.4647060002076766\n",
      "The cost at iteration 177000 is 0.46466635650159205\n",
      "The cost at iteration 178000 is 0.46462728504525924\n",
      "The cost at iteration 179000 is 0.46458877730401016\n",
      "The cost at iteration 180000 is 0.4645508248753091\n",
      "The cost at iteration 181000 is 0.4645134194866299\n",
      "The cost at iteration 182000 is 0.46447655299336876\n",
      "The cost at iteration 183000 is 0.4644402173767901\n",
      "The cost at iteration 184000 is 0.46440440474200745\n",
      "The cost at iteration 185000 is 0.4643691073159976\n",
      "The cost at iteration 186000 is 0.4643343174456473\n",
      "The cost at iteration 187000 is 0.4643000275958318\n",
      "The cost at iteration 188000 is 0.464266230347526\n",
      "The cost at iteration 189000 is 0.46423291839594594\n",
      "The cost at iteration 190000 is 0.4642000845487215\n",
      "The cost at iteration 191000 is 0.4641677217240992\n",
      "The cost at iteration 192000 is 0.46413582294917405\n",
      "The cost at iteration 193000 is 0.4641043813581515\n",
      "The cost at iteration 194000 is 0.46407339019063715\n",
      "The cost at iteration 195000 is 0.4640428427899555\n",
      "The cost at iteration 196000 is 0.4640127326014957\n",
      "The cost at iteration 197000 is 0.4639830531710851\n",
      "The cost at iteration 198000 is 0.46395379814338883\n",
      "The cost at iteration 199000 is 0.4639249612603371\n",
      "The cost at iteration 200000 is 0.4638965363595768\n",
      "The cost at iteration 201000 is 0.4638685173729498\n",
      "The cost at iteration 202000 is 0.4638408983249956\n",
      "The cost at iteration 203000 is 0.4638136733314791\n",
      "The cost at iteration 204000 is 0.46378683659794223\n",
      "The cost at iteration 205000 is 0.4637603824182795\n",
      "The cost at iteration 206000 is 0.4637343051733371\n",
      "The cost at iteration 207000 is 0.46370859932953473\n",
      "The cost at iteration 208000 is 0.4636832594375103\n",
      "The cost at iteration 209000 is 0.4636582801307872\n",
      "The cost at iteration 210000 is 0.4636336561244622\n",
      "The cost at iteration 211000 is 0.46360938221391695\n",
      "The cost at iteration 212000 is 0.46358545327354816\n",
      "The cost at iteration 213000 is 0.4635618642555209\n",
      "The cost at iteration 214000 is 0.4635386101885403\n",
      "The cost at iteration 215000 is 0.4635156861766456\n",
      "The cost at iteration 216000 is 0.4634930873980217\n",
      "The cost at iteration 217000 is 0.46347080910383104\n",
      "The cost at iteration 218000 is 0.4634488466170658\n",
      "The cost at iteration 219000 is 0.4634271953314167\n",
      "The cost at iteration 220000 is 0.4634058507101619\n",
      "The cost at iteration 221000 is 0.4633848082850734\n",
      "The cost at iteration 222000 is 0.4633640636553413\n",
      "The cost at iteration 223000 is 0.46334361248651607\n",
      "The cost at iteration 224000 is 0.4633234505094673\n",
      "The cost at iteration 225000 is 0.46330357351936047\n",
      "The cost at iteration 226000 is 0.4632839773746489\n",
      "The cost at iteration 227000 is 0.46326465799608396\n",
      "The cost at iteration 228000 is 0.4632456113657399\n",
      "The cost at iteration 229000 is 0.4632268335260551\n",
      "The cost at iteration 230000 is 0.46320832057888933\n",
      "The cost at iteration 231000 is 0.4631900686845952\n",
      "The cost at iteration 232000 is 0.4631720740611062\n",
      "The cost at iteration 233000 is 0.4631543329830384\n",
      "The cost at iteration 234000 is 0.4631368417808066\n",
      "The cost at iteration 235000 is 0.46311959683975634\n",
      "The cost at iteration 236000 is 0.4631025945993081\n",
      "The cost at iteration 237000 is 0.46308583155211647\n",
      "The cost at iteration 238000 is 0.4630693042432428\n",
      "The cost at iteration 239000 is 0.4630530092693408\n",
      "The cost at iteration 240000 is 0.46303694327785605\n",
      "The cost at iteration 241000 is 0.46302110296623755\n",
      "The cost at iteration 242000 is 0.4630054850811629\n",
      "The cost at iteration 243000 is 0.4629900864177754\n",
      "The cost at iteration 244000 is 0.4629749038189331\n",
      "The cost at iteration 245000 is 0.4629599341744718\n",
      "The cost at iteration 246000 is 0.4629451744204772\n",
      "The cost at iteration 247000 is 0.462930621538571\n",
      "The cost at iteration 248000 is 0.46291627255520756\n",
      "The cost at iteration 249000 is 0.46290212454098156\n",
      "The cost at iteration 250000 is 0.4628881746099479\n",
      "The cost at iteration 251000 is 0.46287441991895156\n",
      "The cost at iteration 252000 is 0.46286085766696805\n",
      "The cost at iteration 253000 is 0.4628474850944557\n",
      "The cost at iteration 254000 is 0.46283429948271704\n",
      "The cost at iteration 255000 is 0.4628212981532711\n",
      "The cost at iteration 256000 is 0.46280847846723544\n",
      "The cost at iteration 257000 is 0.4627958378247183\n",
      "The cost at iteration 258000 is 0.46278337366422034\n",
      "The cost at iteration 259000 is 0.4627710834620463\n",
      "The cost at iteration 260000 is 0.462758964731725\n",
      "The cost at iteration 261000 is 0.46274701502344046\n",
      "The cost at iteration 262000 is 0.4627352319234696\n",
      "The cost at iteration 263000 is 0.4627236130536317\n",
      "The cost at iteration 264000 is 0.4627121560707443\n",
      "The cost at iteration 265000 is 0.46270085866608873\n",
      "The cost at iteration 266000 is 0.46268971856488494\n",
      "The cost at iteration 267000 is 0.46267873352577243\n",
      "The cost at iteration 268000 is 0.4626679013403024\n",
      "The cost at iteration 269000 is 0.4626572198324352\n",
      "The cost at iteration 270000 is 0.4626466868580474\n",
      "The cost at iteration 271000 is 0.4626363003044466\n",
      "The cost at iteration 272000 is 0.46262605808989293\n",
      "The cost at iteration 273000 is 0.46261595816312917\n",
      "The cost at iteration 274000 is 0.4626059985029179\n",
      "The cost at iteration 275000 is 0.4625961771175858\n",
      "The cost at iteration 276000 is 0.4625864920445756\n",
      "The cost at iteration 277000 is 0.46257694135000443\n",
      "The cost at iteration 278000 is 0.46256752312823\n",
      "The cost at iteration 279000 is 0.46255823550142294\n",
      "The cost at iteration 280000 is 0.46254907661914624\n",
      "The cost at iteration 281000 is 0.46254004465794096\n",
      "The cost at iteration 282000 is 0.46253113782091904\n",
      "The cost at iteration 283000 is 0.462522354337362\n",
      "The cost at iteration 284000 is 0.46251369246232604\n",
      "The cost at iteration 285000 is 0.46250515047625346\n",
      "The cost at iteration 286000 is 0.4624967266845905\n",
      "The cost at iteration 287000 is 0.4624884194174103\n",
      "The cost at iteration 288000 is 0.4624802270290426\n",
      "The cost at iteration 289000 is 0.462472147897709\n",
      "The cost at iteration 290000 is 0.4624641804251635\n",
      "The cost at iteration 291000 is 0.4624563230363396\n",
      "The cost at iteration 292000 is 0.4624485741790018\n",
      "The cost at iteration 293000 is 0.46244093232340366\n",
      "The cost at iteration 294000 is 0.46243339596195\n",
      "The cost at iteration 295000 is 0.46242596360886545\n",
      "The cost at iteration 296000 is 0.46241863379986786\n",
      "The cost at iteration 297000 is 0.46241140509184603\n",
      "The cost at iteration 298000 is 0.4624042760625439\n",
      "The cost at iteration 299000 is 0.4623972453102483\n"
     ]
    },
    {
     "data": {
      "image/png": "[encoded data removed]",
      "text/plain": [
       "<Figure size 432x288 with 1 Axes>"
      ]
     },
     "metadata": {
      "needs_background": "light"
     },
     "output_type": "display_data"
    }
   ],
   "source": [
    "#y_hat, params, cost = gradient_descent(X_train, y_train)\n",
    "y_hat, params, cost = gradient_descent(X_train, y_train, 300000, 0.002)"
   ]
  },
  {
   "cell_type": "code",
   "execution_count": 563,
   "metadata": {},
   "outputs": [],
   "source": [
    "predictions = predict(X_test, params)"
   ]
  },
  {
   "cell_type": "code",
   "execution_count": 564,
   "metadata": {},
   "outputs": [],
   "source": [
    "from sklearn.metrics import classification_report,confusion_matrix, accuracy_score"
   ]
  },
  {
   "cell_type": "code",
   "execution_count": 565,
   "metadata": {},
   "outputs": [
    {
     "data": {
      "text/plain": [
       "array([[204,  20],\n",
       "       [ 58, 111]])"
      ]
     },
     "execution_count": 565,
     "metadata": {},
     "output_type": "execute_result"
    }
   ],
   "source": [
    "confusion_matrix(y_test, predictions)"
   ]
  },
  {
   "cell_type": "code",
   "execution_count": 566,
   "metadata": {},
   "outputs": [
    {
     "name": "stdout",
     "output_type": "stream",
     "text": [
      "              precision    recall  f1-score   support\n",
      "\n",
      "           0       0.78      0.91      0.84       224\n",
      "           1       0.85      0.66      0.74       169\n",
      "\n",
      "    accuracy                           0.80       393\n",
      "   macro avg       0.81      0.78      0.79       393\n",
      "weighted avg       0.81      0.80      0.80       393\n",
      "\n"
     ]
    }
   ],
   "source": [
    "print(classification_report(y_test, predictions))"
   ]
  },
  {
   "cell_type": "code",
   "execution_count": 567,
   "metadata": {},
   "outputs": [
    {
     "data": {
      "text/plain": [
       "0.8015267175572519"
      ]
     },
     "execution_count": 567,
     "metadata": {},
     "output_type": "execute_result"
    }
   ],
   "source": [
    "accuracy_score(y_test, predictions)"
   ]
  },
  {
   "cell_type": "markdown",
   "metadata": {},
   "source": [
    "## Comparing my model with a simple model that predicts survival for females/death for males"
   ]
  },
  {
   "cell_type": "code",
   "execution_count": 568,
   "metadata": {},
   "outputs": [],
   "source": [
    "base_rate_sex_model = titanic.Sex.map({'male':0, 'female':1})"
   ]
  },
  {
   "cell_type": "code",
   "execution_count": 483,
   "metadata": {},
   "outputs": [
    {
     "name": "stdout",
     "output_type": "stream",
     "text": [
      "              precision    recall  f1-score   support\n",
      "\n",
      "           0       0.81      0.84      0.83       809\n",
      "           1       0.73      0.68      0.70       500\n",
      "\n",
      "    accuracy                           0.78      1309\n",
      "   macro avg       0.77      0.76      0.76      1309\n",
      "weighted avg       0.78      0.78      0.78      1309\n",
      "\n"
     ]
    }
   ],
   "source": [
    "print(classification_report(titanic.Survived, base_rate_sex_model))"
   ]
  },
  {
   "cell_type": "code",
   "execution_count": 484,
   "metadata": {},
   "outputs": [
    {
     "data": {
      "text/plain": [
       "0.7799847211611918"
      ]
     },
     "execution_count": 484,
     "metadata": {},
     "output_type": "execute_result"
    }
   ],
   "source": [
    "accuracy_score(titanic.Survived, base_rate_sex_model)"
   ]
  },
  {
   "cell_type": "code",
   "execution_count": null,
   "metadata": {},
   "outputs": [],
   "source": []
  }
 ],
 "metadata": {
  "kernelspec": {
   "display_name": "Python 3",
   "language": "python",
   "name": "python3"
  },
  "language_info": {
   "codemirror_mode": {
    "name": "ipython",
    "version": 3
   },
   "file_extension": ".py",
   "mimetype": "text/x-python",
   "name": "python",
   "nbconvert_exporter": "python",
   "pygments_lexer": "ipython3",
   "version": "3.8.5"
  }
 },
 "nbformat": 4,
 "nbformat_minor": 4
}
