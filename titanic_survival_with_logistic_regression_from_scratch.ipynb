{
 "cells": [
  {
   "cell_type": "markdown",
   "metadata": {},
   "source": [
    "# Estimating titanic survival rate with logistic regression"
   ]
  },
  {
   "cell_type": "code",
   "execution_count": 1,
   "metadata": {},
   "outputs": [],
   "source": [
    "import numpy as np\n",
    "import pandas as pd\n",
    "import matplotlib.pyplot as plt\n",
    "import seaborn as sns"
   ]
  },
  {
   "cell_type": "code",
   "execution_count": 2,
   "metadata": {},
   "outputs": [],
   "source": [
    "titanic = pd.read_csv('data/titanic.csv')"
   ]
  },
  {
   "cell_type": "code",
   "execution_count": 3,
   "metadata": {},
   "outputs": [
    {
     "data": {
      "text/html": [
       "<div>\n",
       "<style scoped>\n",
       "    .dataframe tbody tr th:only-of-type {\n",
       "        vertical-align: middle;\n",
       "    }\n",
       "\n",
       "    .dataframe tbody tr th {\n",
       "        vertical-align: top;\n",
       "    }\n",
       "\n",
       "    .dataframe thead th {\n",
       "        text-align: right;\n",
       "    }\n",
       "</style>\n",
       "<table border=\"1\" class=\"dataframe\">\n",
       "  <thead>\n",
       "    <tr style=\"text-align: right;\">\n",
       "      <th></th>\n",
       "      <th>Passengerid</th>\n",
       "      <th>Survived</th>\n",
       "      <th>Pclass</th>\n",
       "      <th>Name</th>\n",
       "      <th>Sex</th>\n",
       "      <th>Age</th>\n",
       "      <th>SibSp</th>\n",
       "      <th>Parch</th>\n",
       "      <th>Ticket</th>\n",
       "      <th>Fare</th>\n",
       "      <th>Cabin</th>\n",
       "      <th>Embarked</th>\n",
       "    </tr>\n",
       "  </thead>\n",
       "  <tbody>\n",
       "    <tr>\n",
       "      <th>0</th>\n",
       "      <td>1</td>\n",
       "      <td>1</td>\n",
       "      <td>1</td>\n",
       "      <td>Allen, Miss. Elisabeth Walton</td>\n",
       "      <td>female</td>\n",
       "      <td>29.0000</td>\n",
       "      <td>0</td>\n",
       "      <td>0</td>\n",
       "      <td>24160</td>\n",
       "      <td>211.3375</td>\n",
       "      <td>B5</td>\n",
       "      <td>S</td>\n",
       "    </tr>\n",
       "    <tr>\n",
       "      <th>1</th>\n",
       "      <td>2</td>\n",
       "      <td>1</td>\n",
       "      <td>1</td>\n",
       "      <td>Allison, Master. Hudson Trevor</td>\n",
       "      <td>male</td>\n",
       "      <td>0.9167</td>\n",
       "      <td>1</td>\n",
       "      <td>2</td>\n",
       "      <td>113781</td>\n",
       "      <td>151.5500</td>\n",
       "      <td>C22 C26</td>\n",
       "      <td>S</td>\n",
       "    </tr>\n",
       "    <tr>\n",
       "      <th>2</th>\n",
       "      <td>3</td>\n",
       "      <td>0</td>\n",
       "      <td>1</td>\n",
       "      <td>Allison, Miss. Helen Loraine</td>\n",
       "      <td>female</td>\n",
       "      <td>2.0000</td>\n",
       "      <td>1</td>\n",
       "      <td>2</td>\n",
       "      <td>113781</td>\n",
       "      <td>151.5500</td>\n",
       "      <td>C22 C26</td>\n",
       "      <td>S</td>\n",
       "    </tr>\n",
       "    <tr>\n",
       "      <th>3</th>\n",
       "      <td>4</td>\n",
       "      <td>0</td>\n",
       "      <td>1</td>\n",
       "      <td>Allison, Mr. Hudson Joshua Creighton</td>\n",
       "      <td>male</td>\n",
       "      <td>30.0000</td>\n",
       "      <td>1</td>\n",
       "      <td>2</td>\n",
       "      <td>113781</td>\n",
       "      <td>151.5500</td>\n",
       "      <td>C22 C26</td>\n",
       "      <td>S</td>\n",
       "    </tr>\n",
       "    <tr>\n",
       "      <th>4</th>\n",
       "      <td>5</td>\n",
       "      <td>0</td>\n",
       "      <td>1</td>\n",
       "      <td>Allison, Mrs. Hudson J C (Bessie Waldo Daniels)</td>\n",
       "      <td>female</td>\n",
       "      <td>25.0000</td>\n",
       "      <td>1</td>\n",
       "      <td>2</td>\n",
       "      <td>113781</td>\n",
       "      <td>151.5500</td>\n",
       "      <td>C22 C26</td>\n",
       "      <td>S</td>\n",
       "    </tr>\n",
       "  </tbody>\n",
       "</table>\n",
       "</div>"
      ],
      "text/plain": [
       "   Passengerid  Survived  Pclass  \\\n",
       "0            1         1       1   \n",
       "1            2         1       1   \n",
       "2            3         0       1   \n",
       "3            4         0       1   \n",
       "4            5         0       1   \n",
       "\n",
       "                                              Name     Sex      Age  SibSp  \\\n",
       "0                    Allen, Miss. Elisabeth Walton  female  29.0000      0   \n",
       "1                   Allison, Master. Hudson Trevor    male   0.9167      1   \n",
       "2                     Allison, Miss. Helen Loraine  female   2.0000      1   \n",
       "3             Allison, Mr. Hudson Joshua Creighton    male  30.0000      1   \n",
       "4  Allison, Mrs. Hudson J C (Bessie Waldo Daniels)  female  25.0000      1   \n",
       "\n",
       "   Parch  Ticket      Fare    Cabin Embarked  \n",
       "0      0   24160  211.3375       B5        S  \n",
       "1      2  113781  151.5500  C22 C26        S  \n",
       "2      2  113781  151.5500  C22 C26        S  \n",
       "3      2  113781  151.5500  C22 C26        S  \n",
       "4      2  113781  151.5500  C22 C26        S  "
      ]
     },
     "execution_count": 3,
     "metadata": {},
     "output_type": "execute_result"
    }
   ],
   "source": [
    "titanic.head()"
   ]
  },
  {
   "cell_type": "code",
   "execution_count": 4,
   "metadata": {},
   "outputs": [
    {
     "data": {
      "text/html": [
       "<div>\n",
       "<style scoped>\n",
       "    .dataframe tbody tr th:only-of-type {\n",
       "        vertical-align: middle;\n",
       "    }\n",
       "\n",
       "    .dataframe tbody tr th {\n",
       "        vertical-align: top;\n",
       "    }\n",
       "\n",
       "    .dataframe thead th {\n",
       "        text-align: right;\n",
       "    }\n",
       "</style>\n",
       "<table border=\"1\" class=\"dataframe\">\n",
       "  <thead>\n",
       "    <tr style=\"text-align: right;\">\n",
       "      <th></th>\n",
       "      <th>Passengerid</th>\n",
       "      <th>Survived</th>\n",
       "      <th>Pclass</th>\n",
       "      <th>Age</th>\n",
       "      <th>SibSp</th>\n",
       "      <th>Parch</th>\n",
       "      <th>Fare</th>\n",
       "    </tr>\n",
       "  </thead>\n",
       "  <tbody>\n",
       "    <tr>\n",
       "      <th>count</th>\n",
       "      <td>1309.000000</td>\n",
       "      <td>1309.000000</td>\n",
       "      <td>1309.000000</td>\n",
       "      <td>1046.000000</td>\n",
       "      <td>1309.000000</td>\n",
       "      <td>1309.000000</td>\n",
       "      <td>1308.000000</td>\n",
       "    </tr>\n",
       "    <tr>\n",
       "      <th>mean</th>\n",
       "      <td>655.000000</td>\n",
       "      <td>0.381971</td>\n",
       "      <td>2.294882</td>\n",
       "      <td>29.881135</td>\n",
       "      <td>0.498854</td>\n",
       "      <td>0.385027</td>\n",
       "      <td>33.295479</td>\n",
       "    </tr>\n",
       "    <tr>\n",
       "      <th>std</th>\n",
       "      <td>378.020061</td>\n",
       "      <td>0.486055</td>\n",
       "      <td>0.837836</td>\n",
       "      <td>14.413500</td>\n",
       "      <td>1.041658</td>\n",
       "      <td>0.865560</td>\n",
       "      <td>51.758668</td>\n",
       "    </tr>\n",
       "    <tr>\n",
       "      <th>min</th>\n",
       "      <td>1.000000</td>\n",
       "      <td>0.000000</td>\n",
       "      <td>1.000000</td>\n",
       "      <td>0.166700</td>\n",
       "      <td>0.000000</td>\n",
       "      <td>0.000000</td>\n",
       "      <td>0.000000</td>\n",
       "    </tr>\n",
       "    <tr>\n",
       "      <th>25%</th>\n",
       "      <td>328.000000</td>\n",
       "      <td>0.000000</td>\n",
       "      <td>2.000000</td>\n",
       "      <td>21.000000</td>\n",
       "      <td>0.000000</td>\n",
       "      <td>0.000000</td>\n",
       "      <td>7.895800</td>\n",
       "    </tr>\n",
       "    <tr>\n",
       "      <th>50%</th>\n",
       "      <td>655.000000</td>\n",
       "      <td>0.000000</td>\n",
       "      <td>3.000000</td>\n",
       "      <td>28.000000</td>\n",
       "      <td>0.000000</td>\n",
       "      <td>0.000000</td>\n",
       "      <td>14.454200</td>\n",
       "    </tr>\n",
       "    <tr>\n",
       "      <th>75%</th>\n",
       "      <td>982.000000</td>\n",
       "      <td>1.000000</td>\n",
       "      <td>3.000000</td>\n",
       "      <td>39.000000</td>\n",
       "      <td>1.000000</td>\n",
       "      <td>0.000000</td>\n",
       "      <td>31.275000</td>\n",
       "    </tr>\n",
       "    <tr>\n",
       "      <th>max</th>\n",
       "      <td>1309.000000</td>\n",
       "      <td>1.000000</td>\n",
       "      <td>3.000000</td>\n",
       "      <td>80.000000</td>\n",
       "      <td>8.000000</td>\n",
       "      <td>9.000000</td>\n",
       "      <td>512.329200</td>\n",
       "    </tr>\n",
       "  </tbody>\n",
       "</table>\n",
       "</div>"
      ],
      "text/plain": [
       "       Passengerid     Survived       Pclass          Age        SibSp  \\\n",
       "count  1309.000000  1309.000000  1309.000000  1046.000000  1309.000000   \n",
       "mean    655.000000     0.381971     2.294882    29.881135     0.498854   \n",
       "std     378.020061     0.486055     0.837836    14.413500     1.041658   \n",
       "min       1.000000     0.000000     1.000000     0.166700     0.000000   \n",
       "25%     328.000000     0.000000     2.000000    21.000000     0.000000   \n",
       "50%     655.000000     0.000000     3.000000    28.000000     0.000000   \n",
       "75%     982.000000     1.000000     3.000000    39.000000     1.000000   \n",
       "max    1309.000000     1.000000     3.000000    80.000000     8.000000   \n",
       "\n",
       "             Parch         Fare  \n",
       "count  1309.000000  1308.000000  \n",
       "mean      0.385027    33.295479  \n",
       "std       0.865560    51.758668  \n",
       "min       0.000000     0.000000  \n",
       "25%       0.000000     7.895800  \n",
       "50%       0.000000    14.454200  \n",
       "75%       0.000000    31.275000  \n",
       "max       9.000000   512.329200  "
      ]
     },
     "execution_count": 4,
     "metadata": {},
     "output_type": "execute_result"
    }
   ],
   "source": [
    "titanic.describe()"
   ]
  },
  {
   "cell_type": "code",
   "execution_count": 5,
   "metadata": {},
   "outputs": [
    {
     "name": "stdout",
     "output_type": "stream",
     "text": [
      "<class 'pandas.core.frame.DataFrame'>\n",
      "RangeIndex: 1309 entries, 0 to 1308\n",
      "Data columns (total 12 columns):\n",
      " #   Column       Non-Null Count  Dtype  \n",
      "---  ------       --------------  -----  \n",
      " 0   Passengerid  1309 non-null   int64  \n",
      " 1   Survived     1309 non-null   int64  \n",
      " 2   Pclass       1309 non-null   int64  \n",
      " 3   Name         1309 non-null   object \n",
      " 4   Sex          1309 non-null   object \n",
      " 5   Age          1046 non-null   float64\n",
      " 6   SibSp        1309 non-null   int64  \n",
      " 7   Parch        1309 non-null   int64  \n",
      " 8   Ticket       1309 non-null   object \n",
      " 9   Fare         1308 non-null   float64\n",
      " 10  Cabin        295 non-null    object \n",
      " 11  Embarked     1307 non-null   object \n",
      "dtypes: float64(2), int64(5), object(5)\n",
      "memory usage: 122.8+ KB\n"
     ]
    }
   ],
   "source": [
    "titanic.info()"
   ]
  },
  {
   "cell_type": "markdown",
   "metadata": {},
   "source": [
    "## Exploratory Data Analysis"
   ]
  },
  {
   "cell_type": "code",
   "execution_count": 6,
   "metadata": {},
   "outputs": [
    {
     "data": {
      "text/plain": [
       "<AxesSubplot:>"
      ]
     },
     "execution_count": 6,
     "metadata": {},
     "output_type": "execute_result"
    },
    {
     "data": {
      "image/png": "[encoded data removed]",
      "text/plain": [
       "<Figure size 432x288 with 2 Axes>"
      ]
     },
     "metadata": {
      "needs_background": "light"
     },
     "output_type": "display_data"
    }
   ],
   "source": [
    "sns.heatmap(titanic.corr(), annot=True)"
   ]
  },
  {
   "cell_type": "code",
   "execution_count": 7,
   "metadata": {},
   "outputs": [
    {
     "data": {
      "text/plain": [
       "<AxesSubplot:xlabel='Survived', ylabel='count'>"
      ]
     },
     "execution_count": 7,
     "metadata": {},
     "output_type": "execute_result"
    },
    {
     "data": {
      "image/png": "[encoded data removed]",
      "text/plain": [
       "<Figure size 432x288 with 1 Axes>"
      ]
     },
     "metadata": {},
     "output_type": "display_data"
    }
   ],
   "source": [
    "sns.set_style('whitegrid')\n",
    "sns.countplot(x='Survived', hue = 'Sex', data = titanic)"
   ]
  },
  {
   "cell_type": "code",
   "execution_count": 8,
   "metadata": {},
   "outputs": [
    {
     "data": {
      "text/plain": [
       "<AxesSubplot:xlabel='Survived', ylabel='count'>"
      ]
     },
     "execution_count": 8,
     "metadata": {},
     "output_type": "execute_result"
    },
    {
     "data": {
      "image/png": "[encoded data removed]",
      "text/plain": [
       "<Figure size 432x288 with 1 Axes>"
      ]
     },
     "metadata": {},
     "output_type": "display_data"
    }
   ],
   "source": [
    "sns.countplot(x='Survived', hue = 'Pclass', data = titanic)"
   ]
  },
  {
   "cell_type": "code",
   "execution_count": 9,
   "metadata": {},
   "outputs": [
    {
     "data": {
      "text/plain": [
       "<seaborn.axisgrid.FacetGrid at 0x7fcbd287f760>"
      ]
     },
     "execution_count": 9,
     "metadata": {},
     "output_type": "execute_result"
    },
    {
     "data": {
      "image/png": "[encoded data removed]",
      "text/plain": [
       "<Figure size 360x360 with 1 Axes>"
      ]
     },
     "metadata": {},
     "output_type": "display_data"
    }
   ],
   "source": [
    "sns.displot(titanic.Age.dropna(), kde=True)"
   ]
  },
  {
   "cell_type": "code",
   "execution_count": 10,
   "metadata": {},
   "outputs": [
    {
     "data": {
      "text/plain": [
       "<AxesSubplot:xlabel='SibSp', ylabel='count'>"
      ]
     },
     "execution_count": 10,
     "metadata": {},
     "output_type": "execute_result"
    },
    {
     "data": {
      "image/png": "[encoded data removed]",
      "text/plain": [
       "<Figure size 432x288 with 1 Axes>"
      ]
     },
     "metadata": {},
     "output_type": "display_data"
    }
   ],
   "source": [
    "sns.countplot(x='SibSp', data=titanic)"
   ]
  },
  {
   "cell_type": "markdown",
   "metadata": {},
   "source": [
    "## Handling missing values"
   ]
  },
  {
   "cell_type": "code",
   "execution_count": 11,
   "metadata": {},
   "outputs": [
    {
     "data": {
      "text/plain": [
       "Passengerid       0\n",
       "Survived          0\n",
       "Pclass            0\n",
       "Name              0\n",
       "Sex               0\n",
       "Age             263\n",
       "SibSp             0\n",
       "Parch             0\n",
       "Ticket            0\n",
       "Fare              1\n",
       "Cabin          1014\n",
       "Embarked          2\n",
       "dtype: int64"
      ]
     },
     "execution_count": 11,
     "metadata": {},
     "output_type": "execute_result"
    }
   ],
   "source": [
    "titanic.isna().sum()"
   ]
  },
  {
   "cell_type": "code",
   "execution_count": 12,
   "metadata": {},
   "outputs": [
    {
     "data": {
      "text/plain": [
       "Text(0.5, 1.0, 'Heatmap of missing values')"
      ]
     },
     "execution_count": 12,
     "metadata": {},
     "output_type": "execute_result"
    },
    {
     "data": {
      "image/png": "[encoded data removed]",
      "text/plain": [
       "<Figure size 864x576 with 1 Axes>"
      ]
     },
     "metadata": {},
     "output_type": "display_data"
    }
   ],
   "source": [
    "plt.figure(figsize=(12,8))\n",
    "sns.heatmap(titanic.isnull(), cbar=False, cmap='viridis').set_title('Heatmap of missing values')"
   ]
  },
  {
   "cell_type": "markdown",
   "metadata": {},
   "source": [
    "### Dropping the cabin-column"
   ]
  },
  {
   "cell_type": "code",
   "execution_count": 13,
   "metadata": {},
   "outputs": [],
   "source": [
    "titanic.drop(columns=['Cabin'], inplace = True)"
   ]
  },
  {
   "cell_type": "markdown",
   "metadata": {},
   "source": [
    "### Imputing missing values for age and fare"
   ]
  },
  {
   "cell_type": "code",
   "execution_count": 14,
   "metadata": {},
   "outputs": [
    {
     "data": {
      "text/html": [
       "<div>\n",
       "<style scoped>\n",
       "    .dataframe tbody tr th:only-of-type {\n",
       "        vertical-align: middle;\n",
       "    }\n",
       "\n",
       "    .dataframe tbody tr th {\n",
       "        vertical-align: top;\n",
       "    }\n",
       "\n",
       "    .dataframe thead th {\n",
       "        text-align: right;\n",
       "    }\n",
       "</style>\n",
       "<table border=\"1\" class=\"dataframe\">\n",
       "  <thead>\n",
       "    <tr style=\"text-align: right;\">\n",
       "      <th></th>\n",
       "      <th>Passengerid</th>\n",
       "      <th>Survived</th>\n",
       "      <th>Pclass</th>\n",
       "      <th>Age</th>\n",
       "      <th>SibSp</th>\n",
       "      <th>Parch</th>\n",
       "      <th>Fare</th>\n",
       "    </tr>\n",
       "  </thead>\n",
       "  <tbody>\n",
       "    <tr>\n",
       "      <th>Age</th>\n",
       "      <td>-0.343888</td>\n",
       "      <td>-0.055513</td>\n",
       "      <td>-0.408106</td>\n",
       "      <td>1.000000</td>\n",
       "      <td>-0.243699</td>\n",
       "      <td>-0.150917</td>\n",
       "      <td>0.178739</td>\n",
       "    </tr>\n",
       "    <tr>\n",
       "      <th>Fare</th>\n",
       "      <td>-0.481215</td>\n",
       "      <td>0.244265</td>\n",
       "      <td>-0.558629</td>\n",
       "      <td>0.178739</td>\n",
       "      <td>0.160238</td>\n",
       "      <td>0.221539</td>\n",
       "      <td>1.000000</td>\n",
       "    </tr>\n",
       "  </tbody>\n",
       "</table>\n",
       "</div>"
      ],
      "text/plain": [
       "      Passengerid  Survived    Pclass       Age     SibSp     Parch      Fare\n",
       "Age     -0.343888 -0.055513 -0.408106  1.000000 -0.243699 -0.150917  0.178739\n",
       "Fare    -0.481215  0.244265 -0.558629  0.178739  0.160238  0.221539  1.000000"
      ]
     },
     "execution_count": 14,
     "metadata": {},
     "output_type": "execute_result"
    }
   ],
   "source": [
    "titanic.corr().loc[['Age', 'Fare']]"
   ]
  },
  {
   "cell_type": "code",
   "execution_count": 15,
   "metadata": {},
   "outputs": [],
   "source": [
    "titanic.Age.fillna(titanic.groupby(['Pclass']).Age.transform('mean'), inplace = True)"
   ]
  },
  {
   "cell_type": "code",
   "execution_count": 16,
   "metadata": {},
   "outputs": [],
   "source": [
    "titanic.Fare.fillna(titanic.groupby(['Pclass']).Fare.transform('mean'), inplace = True)"
   ]
  },
  {
   "cell_type": "markdown",
   "metadata": {},
   "source": [
    "### Handling missing values for the embarked-column by using the modal value"
   ]
  },
  {
   "cell_type": "code",
   "execution_count": 17,
   "metadata": {},
   "outputs": [
    {
     "data": {
      "text/plain": [
       "S    914\n",
       "C    270\n",
       "Q    123\n",
       "Name: Embarked, dtype: int64"
      ]
     },
     "execution_count": 17,
     "metadata": {},
     "output_type": "execute_result"
    }
   ],
   "source": [
    "titanic.Embarked.value_counts()"
   ]
  },
  {
   "cell_type": "code",
   "execution_count": 18,
   "metadata": {},
   "outputs": [],
   "source": [
    "titanic.loc[titanic.Embarked.isna(), 'Embarked'] = 'S'"
   ]
  },
  {
   "cell_type": "code",
   "execution_count": 19,
   "metadata": {},
   "outputs": [
    {
     "data": {
      "text/plain": [
       "Passengerid    0\n",
       "Survived       0\n",
       "Pclass         0\n",
       "Name           0\n",
       "Sex            0\n",
       "Age            0\n",
       "SibSp          0\n",
       "Parch          0\n",
       "Ticket         0\n",
       "Fare           0\n",
       "Embarked       0\n",
       "dtype: int64"
      ]
     },
     "execution_count": 19,
     "metadata": {},
     "output_type": "execute_result"
    }
   ],
   "source": [
    "titanic.isna().sum()"
   ]
  },
  {
   "cell_type": "markdown",
   "metadata": {},
   "source": [
    "## Feature engineering"
   ]
  },
  {
   "cell_type": "markdown",
   "metadata": {},
   "source": [
    "### Creating a feature that will replace Sibsp and Parch, indicating if a passenger is travelling with any other family members."
   ]
  },
  {
   "cell_type": "code",
   "execution_count": 20,
   "metadata": {},
   "outputs": [],
   "source": [
    "titanic['TravellingAlone'] = (titanic.SibSp + titanic.Parch + 1).apply(lambda size: 0 if size > 1 else 1)"
   ]
  },
  {
   "cell_type": "code",
   "execution_count": 21,
   "metadata": {},
   "outputs": [
    {
     "data": {
      "text/html": [
       "<div>\n",
       "<style scoped>\n",
       "    .dataframe tbody tr th:only-of-type {\n",
       "        vertical-align: middle;\n",
       "    }\n",
       "\n",
       "    .dataframe tbody tr th {\n",
       "        vertical-align: top;\n",
       "    }\n",
       "\n",
       "    .dataframe thead th {\n",
       "        text-align: right;\n",
       "    }\n",
       "</style>\n",
       "<table border=\"1\" class=\"dataframe\">\n",
       "  <thead>\n",
       "    <tr style=\"text-align: right;\">\n",
       "      <th></th>\n",
       "      <th>TravellingAlone</th>\n",
       "      <th>Survived</th>\n",
       "    </tr>\n",
       "  </thead>\n",
       "  <tbody>\n",
       "    <tr>\n",
       "      <th>0</th>\n",
       "      <td>0</td>\n",
       "      <td>0.502890</td>\n",
       "    </tr>\n",
       "    <tr>\n",
       "      <th>1</th>\n",
       "      <td>1</td>\n",
       "      <td>0.302532</td>\n",
       "    </tr>\n",
       "  </tbody>\n",
       "</table>\n",
       "</div>"
      ],
      "text/plain": [
       "   TravellingAlone  Survived\n",
       "0                0  0.502890\n",
       "1                1  0.302532"
      ]
     },
     "execution_count": 21,
     "metadata": {},
     "output_type": "execute_result"
    }
   ],
   "source": [
    "titanic[['Survived', 'TravellingAlone']].groupby(['TravellingAlone'], as_index=False).mean()"
   ]
  },
  {
   "cell_type": "markdown",
   "metadata": {},
   "source": [
    "### Creating dummy variables for Pclass, Sex and Embarked"
   ]
  },
  {
   "cell_type": "code",
   "execution_count": 22,
   "metadata": {},
   "outputs": [],
   "source": [
    "dummies = pd.get_dummies(titanic[['Pclass', 'Sex', 'Embarked']], drop_first=True)"
   ]
  },
  {
   "cell_type": "markdown",
   "metadata": {},
   "source": [
    "## Splitting data into train and test sets"
   ]
  },
  {
   "cell_type": "code",
   "execution_count": 23,
   "metadata": {},
   "outputs": [],
   "source": [
    "from sklearn.model_selection import train_test_split"
   ]
  },
  {
   "cell_type": "code",
   "execution_count": 24,
   "metadata": {},
   "outputs": [],
   "source": [
    "X = pd.concat([dummies, titanic[['Age', 'Fare', 'TravellingAlone']]], axis=1).values\n",
    "y = titanic['Survived'].values.reshape(-1,1)"
   ]
  },
  {
   "cell_type": "code",
   "execution_count": 25,
   "metadata": {},
   "outputs": [],
   "source": [
    "X_train, X_test, y_train, y_test = train_test_split(X, y, test_size = 0.3, random_state = 42)"
   ]
  },
  {
   "cell_type": "code",
   "execution_count": 26,
   "metadata": {},
   "outputs": [
    {
     "data": {
      "text/plain": [
       "((916, 7), (393, 7), (916, 1), (393, 1))"
      ]
     },
     "execution_count": 26,
     "metadata": {},
     "output_type": "execute_result"
    }
   ],
   "source": [
    "X_train.shape, X_test.shape, y_train.shape, y_test.shape"
   ]
  },
  {
   "cell_type": "markdown",
   "metadata": {},
   "source": [
    "## Training the model"
   ]
  },
  {
   "cell_type": "code",
   "execution_count": 27,
   "metadata": {},
   "outputs": [],
   "source": [
    "from logistic_regression import LogisticRegression"
   ]
  },
  {
   "cell_type": "code",
   "execution_count": 28,
   "metadata": {},
   "outputs": [],
   "source": [
    "model = LogisticRegression()"
   ]
  },
  {
   "cell_type": "code",
   "execution_count": 29,
   "metadata": {},
   "outputs": [
    {
     "name": "stdout",
     "output_type": "stream",
     "text": [
      "The cost at iteration 0 is 0.6491156797020754\n",
      "The cost at iteration 1000 is 0.5719670624680706\n",
      "The cost at iteration 2000 is 0.5530951117772474\n",
      "The cost at iteration 3000 is 0.5399271590717643\n",
      "The cost at iteration 4000 is 0.530013276601463\n",
      "The cost at iteration 5000 is 0.5224310534167084\n",
      "The cost at iteration 6000 is 0.5165551277756145\n",
      "The cost at iteration 7000 is 0.5119369456307535\n",
      "The cost at iteration 8000 is 0.5082529997231733\n",
      "The cost at iteration 9000 is 0.5052688703385904\n",
      "The cost at iteration 10000 is 0.5028136419836153\n",
      "The cost at iteration 11000 is 0.5007618245615058\n",
      "The cost at iteration 12000 is 0.49902059945149563\n",
      "The cost at iteration 13000 is 0.49752079949077016\n",
      "The cost at iteration 14000 is 0.4962104984857377\n",
      "The cost at iteration 15000 is 0.4950504273045473\n",
      "The cost at iteration 16000 is 0.49401067401257176\n",
      "The cost at iteration 17000 is 0.49306829188980256\n",
      "The cost at iteration 18000 is 0.4922055535682009\n",
      "The cost at iteration 19000 is 0.4914086681481182\n",
      "The cost at iteration 20000 is 0.4906668323459335\n",
      "The cost at iteration 21000 is 0.48997152426623236\n",
      "The cost at iteration 22000 is 0.4893159745568778\n",
      "The cost at iteration 23000 is 0.48869476806361006\n",
      "The cost at iteration 24000 is 0.488103542070619\n",
      "The cost at iteration 25000 is 0.487538756439685\n",
      "The cost at iteration 26000 is 0.4869975175677464\n",
      "The cost at iteration 27000 is 0.48647744284522026\n",
      "The cost at iteration 28000 is 0.48597655575140547\n",
      "The cost at iteration 29000 is 0.48549320424305453\n",
      "The cost at iteration 30000 is 0.4850259969406487\n",
      "The cost at iteration 31000 is 0.48457375298005445\n",
      "The cost at iteration 32000 is 0.4841354624075266\n",
      "The cost at iteration 33000 is 0.4837102547483835\n",
      "The cost at iteration 34000 is 0.48329737394251954\n",
      "The cost at iteration 35000 is 0.4828961582628507\n",
      "The cost at iteration 36000 is 0.48250602415196564\n",
      "The cost at iteration 37000 is 0.4821264531541319\n",
      "The cost at iteration 38000 is 0.48175698130389183\n",
      "The cost at iteration 39000 is 0.4813971904731494\n",
      "The cost at iteration 40000 is 0.48104670128659327\n",
      "The cost at iteration 41000 is 0.4807051672984791\n",
      "The cost at iteration 42000 is 0.48037227018815726\n",
      "The cost at iteration 43000 is 0.4800477157817448\n",
      "The cost at iteration 44000 is 0.47973123074637725\n",
      "The cost at iteration 45000 is 0.4794225598340635\n",
      "The cost at iteration 46000 is 0.4791214635762523\n",
      "The cost at iteration 47000 is 0.47882771634925564\n",
      "The cost at iteration 48000 is 0.47854110474579453\n",
      "The cost at iteration 49000 is 0.47826142619998285\n",
      "The cost at iteration 50000 is 0.477988487822724\n",
      "The cost at iteration 51000 is 0.47772210541225535\n",
      "The cost at iteration 52000 is 0.47746210261084254\n",
      "The cost at iteration 53000 is 0.47720831018371185\n",
      "The cost at iteration 54000 is 0.4769605654004368\n",
      "The cost at iteration 55000 is 0.476718711502374\n",
      "The cost at iteration 56000 is 0.47648259724251135\n",
      "The cost at iteration 57000 is 0.47625207648636236\n",
      "The cost at iteration 58000 is 0.4760270078644186\n",
      "The cost at iteration 59000 is 0.4758072544682204\n",
      "The cost at iteration 60000 is 0.4755926835833952\n",
      "The cost at iteration 61000 is 0.4753831664540774\n",
      "The cost at iteration 62000 is 0.47517857807401864\n",
      "The cost at iteration 63000 is 0.4749787970004343\n",
      "The cost at iteration 64000 is 0.4747837051872619\n",
      "The cost at iteration 65000 is 0.47459318783501786\n",
      "The cost at iteration 66000 is 0.4744071332548857\n",
      "The cost at iteration 67000 is 0.4742254327450268\n",
      "The cost at iteration 68000 is 0.4740479804774218\n",
      "The cost at iteration 69000 is 0.47387467339380235\n",
      "The cost at iteration 70000 is 0.4737054111094596\n",
      "The cost at iteration 71000 is 0.4735400958238961\n",
      "The cost at iteration 72000 is 0.47337863223744464\n",
      "The cost at iteration 73000 is 0.4732209274731105\n",
      "The cost at iteration 74000 is 0.47306689100300386\n",
      "The cost at iteration 75000 is 0.47291643457882393\n",
      "The cost at iteration 76000 is 0.47276947216593695\n",
      "The cost at iteration 77000 is 0.47262591988065467\n",
      "The cost at iteration 78000 is 0.47248569593038214\n",
      "The cost at iteration 79000 is 0.472348720556346\n",
      "The cost at iteration 80000 is 0.47221491597866055\n",
      "The cost at iteration 81000 is 0.4720842063435213\n",
      "The cost at iteration 82000 is 0.47195651767234453\n",
      "The cost at iteration 83000 is 0.4718317778126985\n",
      "The cost at iteration 84000 is 0.4717099163908908\n",
      "The cost at iteration 85000 is 0.47159086476609624\n",
      "The cost at iteration 86000 is 0.4714745559859223\n",
      "The cost at iteration 87000 is 0.4713609247433268\n",
      "The cost at iteration 88000 is 0.47124990733480654\n",
      "The cost at iteration 89000 is 0.47114144161979193\n",
      "The cost at iteration 90000 is 0.4710354669811858\n",
      "The cost at iteration 91000 is 0.4709319242869924\n",
      "The cost at iteration 92000 is 0.4708307558529906\n",
      "The cost at iteration 93000 is 0.4707319054064062\n",
      "The cost at iteration 94000 is 0.4706353180505461\n",
      "The cost at iteration 95000 is 0.4705409402303577\n",
      "The cost at iteration 96000 is 0.4704487196988828\n",
      "The cost at iteration 97000 is 0.4703586054845747\n",
      "The cost at iteration 98000 is 0.47027054785945155\n",
      "The cost at iteration 99000 is 0.47018449830806164\n",
      "The cost at iteration 100000 is 0.4701004094972335\n",
      "The cost at iteration 101000 is 0.47001823524659253\n",
      "The cost at iteration 102000 is 0.4699379304998193\n",
      "The cost at iteration 103000 is 0.46985945129663115\n",
      "The cost at iteration 104000 is 0.4697827547454669\n",
      "The cost at iteration 105000 is 0.46970779899685794\n",
      "The cost at iteration 106000 is 0.4696345432174652\n",
      "The cost at iteration 107000 is 0.46956294756476813\n",
      "The cost at iteration 108000 is 0.46949297316238664\n",
      "The cost at iteration 109000 is 0.46942458207602233\n",
      "The cost at iteration 110000 is 0.46935773729000196\n",
      "The cost at iteration 111000 is 0.4692924026844087\n",
      "The cost at iteration 112000 is 0.4692285430127879\n",
      "The cost at iteration 113000 is 0.4691661238804113\n",
      "The cost at iteration 114000 is 0.46910511172308766\n",
      "The cost at iteration 115000 is 0.4690454737865048\n",
      "The cost at iteration 116000 is 0.46898717810609253\n",
      "The cost at iteration 117000 is 0.4689301934873902\n",
      "The cost at iteration 118000 is 0.4688744894869101\n",
      "The cost at iteration 119000 is 0.46882003639348163\n",
      "The cost at iteration 120000 is 0.4687668052100667\n",
      "The cost at iteration 121000 is 0.46871476763603287\n",
      "The cost at iteration 122000 is 0.46866389604987413\n",
      "The cost at iteration 123000 is 0.46861416349236795\n",
      "The cost at iteration 124000 is 0.4685655436501579\n",
      "The cost at iteration 125000 is 0.4685180108397504\n",
      "The cost at iteration 126000 is 0.46847153999191715\n",
      "The cost at iteration 127000 is 0.468426106636491\n",
      "The cost at iteration 128000 is 0.46838168688754706\n",
      "The cost at iteration 129000 is 0.4683382574289586\n",
      "The cost at iteration 130000 is 0.46829579550031863\n",
      "The cost at iteration 131000 is 0.46825427888321763\n",
      "The cost at iteration 132000 is 0.4682136858878689\n",
      "The cost at iteration 133000 is 0.46817399534007287\n",
      "The cost at iteration 134000 is 0.46813518656851083\n",
      "The cost at iteration 135000 is 0.46809723939236136\n",
      "The cost at iteration 136000 is 0.46806013410922925\n",
      "The cost at iteration 137000 is 0.4680238514833811\n",
      "The cost at iteration 138000 is 0.46798837273427824\n",
      "The cost at iteration 139000 is 0.4679536795254002\n",
      "The cost at iteration 140000 is 0.4679197539533503\n",
      "The cost at iteration 141000 is 0.46788657853723853\n",
      "The cost at iteration 142000 is 0.4678541362083314\n",
      "The cost at iteration 143000 is 0.46782241029996435\n",
      "The cost at iteration 144000 is 0.4677913845377092\n",
      "The cost at iteration 145000 is 0.4677610430297901\n",
      "The cost at iteration 146000 is 0.4677313702577411\n",
      "The cost at iteration 147000 is 0.46770235106730057\n",
      "The cost at iteration 148000 is 0.4676739706595346\n",
      "The cost at iteration 149000 is 0.46764621458218514\n",
      "The cost at iteration 150000 is 0.4676190687212355\n",
      "The cost at iteration 151000 is 0.46759251929268913\n",
      "The cost at iteration 152000 is 0.4675665528345553\n",
      "The cost at iteration 153000 is 0.4675411561990361\n",
      "The cost at iteration 154000 is 0.4675163165449109\n",
      "The cost at iteration 155000 is 0.4674920213301115\n",
      "The cost at iteration 156000 is 0.4674682583044844\n",
      "The cost at iteration 157000 is 0.4674450155027343\n",
      "The cost at iteration 158000 is 0.4674222812375453\n",
      "The cost at iteration 159000 is 0.46740004409287383\n",
      "The cost at iteration 160000 is 0.46737829291741084\n",
      "The cost at iteration 161000 is 0.46735701681820613\n",
      "The cost at iteration 162000 is 0.4673362051544535\n"
     ]
    },
    {
     "name": "stdout",
     "output_type": "stream",
     "text": [
      "The cost at iteration 163000 is 0.4673158475314307\n",
      "The cost at iteration 164000 is 0.4672959337945908\n",
      "The cost at iteration 165000 is 0.46727645402380114\n",
      "The cost at iteration 166000 is 0.467257398527726\n",
      "The cost at iteration 167000 is 0.46723875783834923\n",
      "The cost at iteration 168000 is 0.46722052270563275\n",
      "The cost at iteration 169000 is 0.46720268409230914\n",
      "The cost at iteration 170000 is 0.4671852331688022\n",
      "The cost at iteration 171000 is 0.4671681613082746\n",
      "The cost at iteration 172000 is 0.46715146008179825\n",
      "The cost at iteration 173000 is 0.46713512125364426\n",
      "The cost at iteration 174000 is 0.4671191367766892\n",
      "The cost at iteration 175000 is 0.4671034987879357\n",
      "The cost at iteration 176000 is 0.46708819960414344\n",
      "The cost at iteration 177000 is 0.46707323171756765\n",
      "The cost at iteration 178000 is 0.46705858779180354\n",
      "The cost at iteration 179000 is 0.4670442606577326\n",
      "The cost at iteration 180000 is 0.4670302433095686\n",
      "The cost at iteration 181000 is 0.4670165289010014\n",
      "The cost at iteration 182000 is 0.46700311074143486\n",
      "The cost at iteration 183000 is 0.466989982292318\n",
      "The cost at iteration 184000 is 0.46697713716356476\n",
      "The cost at iteration 185000 is 0.4669645691100634\n",
      "The cost at iteration 186000 is 0.46695227202826906\n",
      "The cost at iteration 187000 is 0.4669402399528819\n",
      "The cost at iteration 188000 is 0.4669284670536046\n",
      "The cost at iteration 189000 is 0.4669169476319798\n",
      "The cost at iteration 190000 is 0.46690567611830475\n",
      "The cost at iteration 191000 is 0.46689464706862066\n",
      "The cost at iteration 192000 is 0.46688385516177566\n",
      "The cost at iteration 193000 is 0.46687329519655857\n",
      "The cost at iteration 194000 is 0.46686296208890327\n",
      "The cost at iteration 195000 is 0.46685285086915945\n",
      "The cost at iteration 196000 is 0.46684295667943093\n",
      "The cost at iteration 197000 is 0.4668332747709774\n",
      "The cost at iteration 198000 is 0.4668238005016791\n",
      "The cost at iteration 199000 is 0.4668145293335635\n"
     ]
    },
    {
     "data": {
      "image/png": "[encoded data removed]",
      "text/plain": [
       "<Figure size 432x288 with 1 Axes>"
      ]
     },
     "metadata": {},
     "output_type": "display_data"
    }
   ],
   "source": [
    "model.fit(X_train, y_train, num_iterations=200000, learning_rate=0.003)"
   ]
  },
  {
   "cell_type": "code",
   "execution_count": 30,
   "metadata": {},
   "outputs": [],
   "source": [
    "predictions = model.predict(X_test)"
   ]
  },
  {
   "cell_type": "code",
   "execution_count": 31,
   "metadata": {},
   "outputs": [
    {
     "data": {
      "text/plain": [
       "80.6615776081425"
      ]
     },
     "execution_count": 31,
     "metadata": {},
     "output_type": "execute_result"
    }
   ],
   "source": [
    "log_model_accuracy = model.score(y_test, predictions)\n",
    "log_model_accuracy"
   ]
  },
  {
   "cell_type": "markdown",
   "metadata": {},
   "source": [
    "## Comparing my model with a simple model that predicts survival for  all females and non-survival for all males"
   ]
  },
  {
   "cell_type": "code",
   "execution_count": 32,
   "metadata": {},
   "outputs": [],
   "source": [
    "base_rate_sex_model = titanic.Sex.map({'male':0, 'female':1})"
   ]
  },
  {
   "cell_type": "code",
   "execution_count": 33,
   "metadata": {},
   "outputs": [],
   "source": [
    "from sklearn.metrics import accuracy_score"
   ]
  },
  {
   "cell_type": "code",
   "execution_count": 34,
   "metadata": {},
   "outputs": [
    {
     "data": {
      "text/plain": [
       "0.7799847211611918"
      ]
     },
     "execution_count": 34,
     "metadata": {},
     "output_type": "execute_result"
    }
   ],
   "source": [
    "base_model_accuracy = accuracy_score(titanic.Survived, base_rate_sex_model)\n",
    "base_model_accuracy"
   ]
  },
  {
   "cell_type": "code",
   "execution_count": 35,
   "metadata": {},
   "outputs": [
    {
     "data": {
      "text/plain": [
       "True"
      ]
     },
     "execution_count": 35,
     "metadata": {},
     "output_type": "execute_result"
    }
   ],
   "source": [
    "log_model_accuracy > base_model_accuracy"
   ]
  }
 ],
 "metadata": {
  "kernelspec": {
   "display_name": "Python 3",
   "language": "python",
   "name": "python3"
  },
  "language_info": {
   "codemirror_mode": {
    "name": "ipython",
    "version": 3
   },
   "file_extension": ".py",
   "mimetype": "text/x-python",
   "name": "python",
   "nbconvert_exporter": "python",
   "pygments_lexer": "ipython3",
   "version": "3.8.5"
  }
 },
 "nbformat": 4,
 "nbformat_minor": 4
}
