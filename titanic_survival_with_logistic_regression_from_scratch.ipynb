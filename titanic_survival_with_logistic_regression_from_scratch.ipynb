{
 "cells": [
  {
   "cell_type": "code",
   "execution_count": 1,
   "metadata": {},
   "outputs": [],
   "source": [
    "import numpy as np\n",
    "import pandas as pd\n",
    "import matplotlib.pyplot as plt\n",
    "import seaborn as sns"
   ]
  },
  {
   "cell_type": "code",
   "execution_count": 2,
   "metadata": {},
   "outputs": [],
   "source": [
    "titanic = pd.read_csv('data/titanic_clean.csv')"
   ]
  },
  {
   "cell_type": "code",
   "execution_count": 3,
   "metadata": {},
   "outputs": [
    {
     "data": {
      "text/html": [
       "<div>\n",
       "<style scoped>\n",
       "    .dataframe tbody tr th:only-of-type {\n",
       "        vertical-align: middle;\n",
       "    }\n",
       "\n",
       "    .dataframe tbody tr th {\n",
       "        vertical-align: top;\n",
       "    }\n",
       "\n",
       "    .dataframe thead th {\n",
       "        text-align: right;\n",
       "    }\n",
       "</style>\n",
       "<table border=\"1\" class=\"dataframe\">\n",
       "  <thead>\n",
       "    <tr style=\"text-align: right;\">\n",
       "      <th></th>\n",
       "      <th>Passengerid</th>\n",
       "      <th>Pclass</th>\n",
       "      <th>Survived</th>\n",
       "      <th>Sex</th>\n",
       "      <th>Age</th>\n",
       "      <th>Sibsp</th>\n",
       "      <th>Parch</th>\n",
       "      <th>Ticket</th>\n",
       "      <th>Fare</th>\n",
       "      <th>Cabin</th>\n",
       "      <th>Embarked</th>\n",
       "    </tr>\n",
       "  </thead>\n",
       "  <tbody>\n",
       "    <tr>\n",
       "      <th>0</th>\n",
       "      <td>1</td>\n",
       "      <td>1</td>\n",
       "      <td>1</td>\n",
       "      <td>female</td>\n",
       "      <td>29.0000</td>\n",
       "      <td>0</td>\n",
       "      <td>0</td>\n",
       "      <td>24160</td>\n",
       "      <td>211.3375</td>\n",
       "      <td>B5</td>\n",
       "      <td>S</td>\n",
       "    </tr>\n",
       "    <tr>\n",
       "      <th>1</th>\n",
       "      <td>2</td>\n",
       "      <td>1</td>\n",
       "      <td>1</td>\n",
       "      <td>male</td>\n",
       "      <td>0.9167</td>\n",
       "      <td>1</td>\n",
       "      <td>2</td>\n",
       "      <td>113781</td>\n",
       "      <td>151.5500</td>\n",
       "      <td>C22 C26</td>\n",
       "      <td>S</td>\n",
       "    </tr>\n",
       "    <tr>\n",
       "      <th>2</th>\n",
       "      <td>3</td>\n",
       "      <td>1</td>\n",
       "      <td>0</td>\n",
       "      <td>female</td>\n",
       "      <td>2.0000</td>\n",
       "      <td>1</td>\n",
       "      <td>2</td>\n",
       "      <td>113781</td>\n",
       "      <td>151.5500</td>\n",
       "      <td>C22 C26</td>\n",
       "      <td>S</td>\n",
       "    </tr>\n",
       "    <tr>\n",
       "      <th>3</th>\n",
       "      <td>4</td>\n",
       "      <td>1</td>\n",
       "      <td>0</td>\n",
       "      <td>male</td>\n",
       "      <td>30.0000</td>\n",
       "      <td>1</td>\n",
       "      <td>2</td>\n",
       "      <td>113781</td>\n",
       "      <td>151.5500</td>\n",
       "      <td>C22 C26</td>\n",
       "      <td>S</td>\n",
       "    </tr>\n",
       "    <tr>\n",
       "      <th>4</th>\n",
       "      <td>5</td>\n",
       "      <td>1</td>\n",
       "      <td>0</td>\n",
       "      <td>female</td>\n",
       "      <td>25.0000</td>\n",
       "      <td>1</td>\n",
       "      <td>2</td>\n",
       "      <td>113781</td>\n",
       "      <td>151.5500</td>\n",
       "      <td>C22 C26</td>\n",
       "      <td>S</td>\n",
       "    </tr>\n",
       "  </tbody>\n",
       "</table>\n",
       "</div>"
      ],
      "text/plain": [
       "   Passengerid  Pclass  Survived     Sex      Age  Sibsp  Parch  Ticket  \\\n",
       "0            1       1         1  female  29.0000      0      0   24160   \n",
       "1            2       1         1    male   0.9167      1      2  113781   \n",
       "2            3       1         0  female   2.0000      1      2  113781   \n",
       "3            4       1         0    male  30.0000      1      2  113781   \n",
       "4            5       1         0  female  25.0000      1      2  113781   \n",
       "\n",
       "       Fare    Cabin Embarked  \n",
       "0  211.3375       B5        S  \n",
       "1  151.5500  C22 C26        S  \n",
       "2  151.5500  C22 C26        S  \n",
       "3  151.5500  C22 C26        S  \n",
       "4  151.5500  C22 C26        S  "
      ]
     },
     "execution_count": 3,
     "metadata": {},
     "output_type": "execute_result"
    }
   ],
   "source": [
    "titanic.head()"
   ]
  },
  {
   "cell_type": "markdown",
   "metadata": {},
   "source": [
    "## Exploratory Data Analysis"
   ]
  },
  {
   "cell_type": "code",
   "execution_count": 4,
   "metadata": {},
   "outputs": [
    {
     "data": {
      "text/plain": [
       "Passengerid       0\n",
       "Pclass            0\n",
       "Survived          0\n",
       "Sex               0\n",
       "Age             263\n",
       "Sibsp             0\n",
       "Parch             0\n",
       "Ticket            0\n",
       "Fare              1\n",
       "Cabin          1014\n",
       "Embarked          2\n",
       "dtype: int64"
      ]
     },
     "execution_count": 4,
     "metadata": {},
     "output_type": "execute_result"
    }
   ],
   "source": [
    "titanic.isna().sum()"
   ]
  },
  {
   "cell_type": "code",
   "execution_count": 5,
   "metadata": {},
   "outputs": [
    {
     "data": {
      "text/html": [
       "<div>\n",
       "<style scoped>\n",
       "    .dataframe tbody tr th:only-of-type {\n",
       "        vertical-align: middle;\n",
       "    }\n",
       "\n",
       "    .dataframe tbody tr th {\n",
       "        vertical-align: top;\n",
       "    }\n",
       "\n",
       "    .dataframe thead th {\n",
       "        text-align: right;\n",
       "    }\n",
       "</style>\n",
       "<table border=\"1\" class=\"dataframe\">\n",
       "  <thead>\n",
       "    <tr style=\"text-align: right;\">\n",
       "      <th></th>\n",
       "      <th>Passengerid</th>\n",
       "      <th>Pclass</th>\n",
       "      <th>Survived</th>\n",
       "      <th>Age</th>\n",
       "      <th>Sibsp</th>\n",
       "      <th>Parch</th>\n",
       "      <th>Fare</th>\n",
       "    </tr>\n",
       "  </thead>\n",
       "  <tbody>\n",
       "    <tr>\n",
       "      <th>Passengerid</th>\n",
       "      <td>1.000000</td>\n",
       "      <td>0.897822</td>\n",
       "      <td>-0.293717</td>\n",
       "      <td>-0.343888</td>\n",
       "      <td>0.065594</td>\n",
       "      <td>0.003584</td>\n",
       "      <td>-0.481215</td>\n",
       "    </tr>\n",
       "    <tr>\n",
       "      <th>Pclass</th>\n",
       "      <td>0.897822</td>\n",
       "      <td>1.000000</td>\n",
       "      <td>-0.312469</td>\n",
       "      <td>-0.408106</td>\n",
       "      <td>0.060832</td>\n",
       "      <td>0.018322</td>\n",
       "      <td>-0.558629</td>\n",
       "    </tr>\n",
       "    <tr>\n",
       "      <th>Survived</th>\n",
       "      <td>-0.293717</td>\n",
       "      <td>-0.312469</td>\n",
       "      <td>1.000000</td>\n",
       "      <td>-0.055513</td>\n",
       "      <td>-0.027825</td>\n",
       "      <td>0.082660</td>\n",
       "      <td>0.244265</td>\n",
       "    </tr>\n",
       "    <tr>\n",
       "      <th>Age</th>\n",
       "      <td>-0.343888</td>\n",
       "      <td>-0.408106</td>\n",
       "      <td>-0.055513</td>\n",
       "      <td>1.000000</td>\n",
       "      <td>-0.243699</td>\n",
       "      <td>-0.150917</td>\n",
       "      <td>0.178739</td>\n",
       "    </tr>\n",
       "    <tr>\n",
       "      <th>Sibsp</th>\n",
       "      <td>0.065594</td>\n",
       "      <td>0.060832</td>\n",
       "      <td>-0.027825</td>\n",
       "      <td>-0.243699</td>\n",
       "      <td>1.000000</td>\n",
       "      <td>0.373587</td>\n",
       "      <td>0.160238</td>\n",
       "    </tr>\n",
       "    <tr>\n",
       "      <th>Parch</th>\n",
       "      <td>0.003584</td>\n",
       "      <td>0.018322</td>\n",
       "      <td>0.082660</td>\n",
       "      <td>-0.150917</td>\n",
       "      <td>0.373587</td>\n",
       "      <td>1.000000</td>\n",
       "      <td>0.221539</td>\n",
       "    </tr>\n",
       "    <tr>\n",
       "      <th>Fare</th>\n",
       "      <td>-0.481215</td>\n",
       "      <td>-0.558629</td>\n",
       "      <td>0.244265</td>\n",
       "      <td>0.178739</td>\n",
       "      <td>0.160238</td>\n",
       "      <td>0.221539</td>\n",
       "      <td>1.000000</td>\n",
       "    </tr>\n",
       "  </tbody>\n",
       "</table>\n",
       "</div>"
      ],
      "text/plain": [
       "             Passengerid    Pclass  Survived       Age     Sibsp     Parch  \\\n",
       "Passengerid     1.000000  0.897822 -0.293717 -0.343888  0.065594  0.003584   \n",
       "Pclass          0.897822  1.000000 -0.312469 -0.408106  0.060832  0.018322   \n",
       "Survived       -0.293717 -0.312469  1.000000 -0.055513 -0.027825  0.082660   \n",
       "Age            -0.343888 -0.408106 -0.055513  1.000000 -0.243699 -0.150917   \n",
       "Sibsp           0.065594  0.060832 -0.027825 -0.243699  1.000000  0.373587   \n",
       "Parch           0.003584  0.018322  0.082660 -0.150917  0.373587  1.000000   \n",
       "Fare           -0.481215 -0.558629  0.244265  0.178739  0.160238  0.221539   \n",
       "\n",
       "                 Fare  \n",
       "Passengerid -0.481215  \n",
       "Pclass      -0.558629  \n",
       "Survived     0.244265  \n",
       "Age          0.178739  \n",
       "Sibsp        0.160238  \n",
       "Parch        0.221539  \n",
       "Fare         1.000000  "
      ]
     },
     "execution_count": 5,
     "metadata": {},
     "output_type": "execute_result"
    }
   ],
   "source": [
    "titanic.corr()"
   ]
  },
  {
   "cell_type": "code",
   "execution_count": 6,
   "metadata": {},
   "outputs": [
    {
     "data": {
      "text/html": [
       "<div>\n",
       "<style scoped>\n",
       "    .dataframe tbody tr th:only-of-type {\n",
       "        vertical-align: middle;\n",
       "    }\n",
       "\n",
       "    .dataframe tbody tr th {\n",
       "        vertical-align: top;\n",
       "    }\n",
       "\n",
       "    .dataframe thead th {\n",
       "        text-align: right;\n",
       "    }\n",
       "</style>\n",
       "<table border=\"1\" class=\"dataframe\">\n",
       "  <thead>\n",
       "    <tr style=\"text-align: right;\">\n",
       "      <th></th>\n",
       "      <th>Passengerid</th>\n",
       "      <th>Pclass</th>\n",
       "      <th>Survived</th>\n",
       "      <th>Age</th>\n",
       "      <th>Sibsp</th>\n",
       "      <th>Parch</th>\n",
       "      <th>Fare</th>\n",
       "    </tr>\n",
       "  </thead>\n",
       "  <tbody>\n",
       "    <tr>\n",
       "      <th>count</th>\n",
       "      <td>1309.000000</td>\n",
       "      <td>1309.000000</td>\n",
       "      <td>1309.000000</td>\n",
       "      <td>1046.000000</td>\n",
       "      <td>1309.000000</td>\n",
       "      <td>1309.000000</td>\n",
       "      <td>1308.000000</td>\n",
       "    </tr>\n",
       "    <tr>\n",
       "      <th>mean</th>\n",
       "      <td>655.000000</td>\n",
       "      <td>2.294882</td>\n",
       "      <td>0.381971</td>\n",
       "      <td>29.881135</td>\n",
       "      <td>0.498854</td>\n",
       "      <td>0.385027</td>\n",
       "      <td>33.295479</td>\n",
       "    </tr>\n",
       "    <tr>\n",
       "      <th>std</th>\n",
       "      <td>378.020061</td>\n",
       "      <td>0.837836</td>\n",
       "      <td>0.486055</td>\n",
       "      <td>14.413500</td>\n",
       "      <td>1.041658</td>\n",
       "      <td>0.865560</td>\n",
       "      <td>51.758668</td>\n",
       "    </tr>\n",
       "    <tr>\n",
       "      <th>min</th>\n",
       "      <td>1.000000</td>\n",
       "      <td>1.000000</td>\n",
       "      <td>0.000000</td>\n",
       "      <td>0.166700</td>\n",
       "      <td>0.000000</td>\n",
       "      <td>0.000000</td>\n",
       "      <td>0.000000</td>\n",
       "    </tr>\n",
       "    <tr>\n",
       "      <th>25%</th>\n",
       "      <td>328.000000</td>\n",
       "      <td>2.000000</td>\n",
       "      <td>0.000000</td>\n",
       "      <td>21.000000</td>\n",
       "      <td>0.000000</td>\n",
       "      <td>0.000000</td>\n",
       "      <td>7.895800</td>\n",
       "    </tr>\n",
       "    <tr>\n",
       "      <th>50%</th>\n",
       "      <td>655.000000</td>\n",
       "      <td>3.000000</td>\n",
       "      <td>0.000000</td>\n",
       "      <td>28.000000</td>\n",
       "      <td>0.000000</td>\n",
       "      <td>0.000000</td>\n",
       "      <td>14.454200</td>\n",
       "    </tr>\n",
       "    <tr>\n",
       "      <th>75%</th>\n",
       "      <td>982.000000</td>\n",
       "      <td>3.000000</td>\n",
       "      <td>1.000000</td>\n",
       "      <td>39.000000</td>\n",
       "      <td>1.000000</td>\n",
       "      <td>0.000000</td>\n",
       "      <td>31.275000</td>\n",
       "    </tr>\n",
       "    <tr>\n",
       "      <th>max</th>\n",
       "      <td>1309.000000</td>\n",
       "      <td>3.000000</td>\n",
       "      <td>1.000000</td>\n",
       "      <td>80.000000</td>\n",
       "      <td>8.000000</td>\n",
       "      <td>9.000000</td>\n",
       "      <td>512.329200</td>\n",
       "    </tr>\n",
       "  </tbody>\n",
       "</table>\n",
       "</div>"
      ],
      "text/plain": [
       "       Passengerid       Pclass     Survived          Age        Sibsp  \\\n",
       "count  1309.000000  1309.000000  1309.000000  1046.000000  1309.000000   \n",
       "mean    655.000000     2.294882     0.381971    29.881135     0.498854   \n",
       "std     378.020061     0.837836     0.486055    14.413500     1.041658   \n",
       "min       1.000000     1.000000     0.000000     0.166700     0.000000   \n",
       "25%     328.000000     2.000000     0.000000    21.000000     0.000000   \n",
       "50%     655.000000     3.000000     0.000000    28.000000     0.000000   \n",
       "75%     982.000000     3.000000     1.000000    39.000000     1.000000   \n",
       "max    1309.000000     3.000000     1.000000    80.000000     8.000000   \n",
       "\n",
       "             Parch         Fare  \n",
       "count  1309.000000  1308.000000  \n",
       "mean      0.385027    33.295479  \n",
       "std       0.865560    51.758668  \n",
       "min       0.000000     0.000000  \n",
       "25%       0.000000     7.895800  \n",
       "50%       0.000000    14.454200  \n",
       "75%       0.000000    31.275000  \n",
       "max       9.000000   512.329200  "
      ]
     },
     "execution_count": 6,
     "metadata": {},
     "output_type": "execute_result"
    }
   ],
   "source": [
    "titanic.describe()"
   ]
  },
  {
   "cell_type": "code",
   "execution_count": 7,
   "metadata": {},
   "outputs": [
    {
     "name": "stdout",
     "output_type": "stream",
     "text": [
      "<class 'pandas.core.frame.DataFrame'>\n",
      "RangeIndex: 1309 entries, 0 to 1308\n",
      "Data columns (total 11 columns):\n",
      " #   Column       Non-Null Count  Dtype  \n",
      "---  ------       --------------  -----  \n",
      " 0   Passengerid  1309 non-null   int64  \n",
      " 1   Pclass       1309 non-null   int64  \n",
      " 2   Survived     1309 non-null   int64  \n",
      " 3   Sex          1309 non-null   object \n",
      " 4   Age          1046 non-null   float64\n",
      " 5   Sibsp        1309 non-null   int64  \n",
      " 6   Parch        1309 non-null   int64  \n",
      " 7   Ticket       1309 non-null   object \n",
      " 8   Fare         1308 non-null   float64\n",
      " 9   Cabin        295 non-null    object \n",
      " 10  Embarked     1307 non-null   object \n",
      "dtypes: float64(2), int64(5), object(4)\n",
      "memory usage: 112.6+ KB\n"
     ]
    }
   ],
   "source": [
    "titanic.info()"
   ]
  },
  {
   "cell_type": "code",
   "execution_count": 8,
   "metadata": {},
   "outputs": [],
   "source": [
    "#upper_outlier = train_df.Fare.quantile(0.95)\n",
    "#train_data = train_df[train_df.Fare < upper_outlier].copy()"
   ]
  },
  {
   "cell_type": "markdown",
   "metadata": {},
   "source": [
    "## Handling missing values for age and fare"
   ]
  },
  {
   "cell_type": "code",
   "execution_count": 9,
   "metadata": {},
   "outputs": [],
   "source": [
    "titanic.Age.fillna(titanic.groupby(['Pclass']).Age.transform('mean'), inplace = True)"
   ]
  },
  {
   "cell_type": "code",
   "execution_count": 10,
   "metadata": {},
   "outputs": [
    {
     "data": {
      "text/plain": [
       "0"
      ]
     },
     "execution_count": 10,
     "metadata": {},
     "output_type": "execute_result"
    }
   ],
   "source": [
    "sum(titanic.Age.isna())"
   ]
  },
  {
   "cell_type": "code",
   "execution_count": 11,
   "metadata": {},
   "outputs": [],
   "source": [
    "titanic.Fare.fillna(titanic.groupby(['Pclass']).Fare.transform('mean'), inplace = True)"
   ]
  },
  {
   "cell_type": "code",
   "execution_count": 12,
   "metadata": {},
   "outputs": [
    {
     "data": {
      "text/plain": [
       "0"
      ]
     },
     "execution_count": 12,
     "metadata": {},
     "output_type": "execute_result"
    }
   ],
   "source": [
    "sum(titanic.Fare.isna())"
   ]
  },
  {
   "cell_type": "markdown",
   "metadata": {},
   "source": [
    "## Handling missing values in Cabin-column by dropping the whole column"
   ]
  },
  {
   "cell_type": "code",
   "execution_count": 13,
   "metadata": {},
   "outputs": [],
   "source": [
    "titanic.drop(columns=['Cabin'], inplace = True)"
   ]
  },
  {
   "cell_type": "markdown",
   "metadata": {},
   "source": [
    "## Feature engineering"
   ]
  },
  {
   "cell_type": "code",
   "execution_count": null,
   "metadata": {},
   "outputs": [],
   "source": []
  },
  {
   "cell_type": "markdown",
   "metadata": {},
   "source": [
    "# Training the model"
   ]
  },
  {
   "cell_type": "code",
   "execution_count": 40,
   "metadata": {},
   "outputs": [],
   "source": [
    "y = titanic['Survived'].values.reshape(-1,1)\n",
    "dummies = pd.get_dummies(titanic[['Pclass', 'Sex', 'Embarked']], drop_first=True)\n",
    "X = pd.concat([dummies, titanic[['Age', 'Fare', 'Sibsp', 'Parch']]], axis=1).values"
   ]
  },
  {
   "cell_type": "code",
   "execution_count": 41,
   "metadata": {},
   "outputs": [],
   "source": [
    "from sklearn.model_selection import train_test_split"
   ]
  },
  {
   "cell_type": "code",
   "execution_count": 42,
   "metadata": {},
   "outputs": [],
   "source": [
    "X_train, X_test, y_train, y_test = train_test_split(X, y, test_size = 0.3, random_state = 42)"
   ]
  },
  {
   "cell_type": "code",
   "execution_count": 43,
   "metadata": {},
   "outputs": [
    {
     "data": {
      "text/plain": [
       "((916, 8), (393, 8), (916, 1), (393, 1))"
      ]
     },
     "execution_count": 43,
     "metadata": {},
     "output_type": "execute_result"
    }
   ],
   "source": [
    "X_train.shape, X_test.shape, y_train.shape, y_test.shape"
   ]
  },
  {
   "cell_type": "code",
   "execution_count": 44,
   "metadata": {},
   "outputs": [],
   "source": [
    "from logistic_regression import LogisticRegression"
   ]
  },
  {
   "cell_type": "code",
   "execution_count": 45,
   "metadata": {},
   "outputs": [],
   "source": [
    "model = LogisticRegression()"
   ]
  },
  {
   "cell_type": "code",
   "execution_count": 64,
   "metadata": {},
   "outputs": [
    {
     "name": "stdout",
     "output_type": "stream",
     "text": [
      "The cost at iteration 0 is 0.6491319837537984\n",
      "The cost at iteration 1000 is 0.5722172042577844\n",
      "The cost at iteration 2000 is 0.5529886176624551\n",
      "The cost at iteration 3000 is 0.5393630117346608\n",
      "The cost at iteration 4000 is 0.5290379590346848\n",
      "The cost at iteration 5000 is 0.521047724979862\n",
      "The cost at iteration 6000 is 0.5147714847227851\n",
      "The cost at iteration 7000 is 0.5097774837519278\n",
      "The cost at iteration 8000 is 0.5057548547004673\n",
      "The cost at iteration 9000 is 0.5024751954012104\n",
      "The cost at iteration 10000 is 0.4997684699585515\n",
      "The cost at iteration 11000 is 0.49750687102703384\n",
      "The cost at iteration 12000 is 0.49559357992387965\n",
      "The cost at iteration 13000 is 0.4939547509674144\n",
      "The cost at iteration 14000 is 0.4925337082509149\n",
      "The cost at iteration 15000 is 0.4912866990563213\n",
      "The cost at iteration 16000 is 0.49017976001476954\n",
      "The cost at iteration 17000 is 0.4891863875586179\n",
      "The cost at iteration 18000 is 0.4882857947546958\n",
      "The cost at iteration 19000 is 0.48746159881764195\n",
      "The cost at iteration 20000 is 0.4867008270780123\n",
      "The cost at iteration 21000 is 0.48599315991603564\n",
      "The cost at iteration 22000 is 0.4853303510916444\n",
      "The cost at iteration 23000 is 0.4847057816482292\n",
      "The cost at iteration 24000 is 0.48411411495488665\n",
      "The cost at iteration 25000 is 0.48355102873831957\n",
      "The cost at iteration 26000 is 0.48301300602201613\n",
      "The cost at iteration 27000 is 0.48249717135784026\n",
      "The cost at iteration 28000 is 0.4820011620441501\n",
      "The cost at iteration 29000 is 0.4815230264892343\n",
      "The cost at iteration 30000 is 0.4810611437246847\n",
      "The cost at iteration 31000 is 0.48061415946301994\n",
      "The cost at iteration 32000 is 0.48018093514548865\n",
      "The cost at iteration 33000 is 0.4797605072257118\n",
      "The cost at iteration 34000 is 0.4793520545458471\n",
      "The cost at iteration 35000 is 0.47895487213096266\n",
      "The cost at iteration 36000 is 0.4785683500888382\n",
      "The cost at iteration 37000 is 0.4781919565822769\n",
      "The cost at iteration 38000 is 0.47782522405851624\n",
      "The cost at iteration 39000 is 0.47746773809000165\n",
      "The cost at iteration 40000 is 0.4771191283136459\n",
      "The cost at iteration 41000 is 0.47677906106006973\n",
      "The cost at iteration 42000 is 0.4764472333465956\n",
      "The cost at iteration 43000 is 0.4761233679728282\n",
      "The cost at iteration 44000 is 0.4758072095092408\n",
      "The cost at iteration 45000 is 0.4754985210102256\n",
      "The cost at iteration 46000 is 0.4751970813157849\n",
      "The cost at iteration 47000 is 0.4749026828321966\n",
      "The cost at iteration 48000 is 0.4746151297029488\n",
      "The cost at iteration 49000 is 0.47433423629807564\n",
      "The cost at iteration 50000 is 0.4740598259635727\n",
      "The cost at iteration 51000 is 0.47379172998349933\n",
      "The cost at iteration 52000 is 0.4735297867162022\n",
      "The cost at iteration 53000 is 0.47327384087324165\n",
      "The cost at iteration 54000 is 0.4730237429153912\n",
      "The cost at iteration 55000 is 0.4727793485447861\n",
      "The cost at iteration 56000 is 0.47254051827611937\n",
      "The cost at iteration 57000 is 0.47230711707289513\n",
      "The cost at iteration 58000 is 0.4720790140372872\n",
      "The cost at iteration 59000 is 0.47185608214422137\n",
      "The cost at iteration 60000 is 0.47163819801198636\n",
      "The cost at iteration 61000 is 0.4714252417030666\n",
      "The cost at iteration 62000 is 0.4712170965500155\n",
      "The cost at iteration 63000 is 0.47101364900211584\n",
      "The cost at iteration 64000 is 0.47081478848933483\n",
      "The cost at iteration 65000 is 0.47062040730069576\n",
      "The cost at iteration 66000 is 0.4704304004747094\n",
      "The cost at iteration 67000 is 0.4702446656999163\n",
      "The cost at iteration 68000 is 0.4700631032239419\n",
      "The cost at iteration 69000 is 0.4698856157697449\n",
      "The cost at iteration 70000 is 0.46971210845797357\n",
      "The cost at iteration 71000 is 0.46954248873453214\n",
      "The cost at iteration 72000 is 0.4693766663026204\n",
      "The cost at iteration 73000 is 0.4692145530586334\n",
      "The cost at iteration 74000 is 0.4690560630314173\n",
      "The cost at iteration 75000 is 0.46890111232446396\n",
      "The cost at iteration 76000 is 0.4687496190606964\n",
      "The cost at iteration 77000 is 0.4686015033295572\n",
      "The cost at iteration 78000 is 0.46845668713616323\n",
      "The cost at iteration 79000 is 0.46831509435232216\n",
      "The cost at iteration 80000 is 0.4681766506692477\n",
      "The cost at iteration 81000 is 0.46804128355183067\n",
      "The cost at iteration 82000 is 0.4679089221943496\n",
      "The cost at iteration 83000 is 0.46777949747751846\n",
      "The cost at iteration 84000 is 0.46765294192678825\n",
      "The cost at iteration 85000 is 0.4675291896718282\n",
      "The cost at iteration 86000 is 0.46740817640712357\n",
      "The cost at iteration 87000 is 0.46728983935363755\n",
      "The cost at iteration 88000 is 0.46717411722148533\n",
      "The cost at iteration 89000 is 0.46706095017358257\n",
      "The cost at iteration 90000 is 0.4669502797902274\n",
      "The cost at iteration 91000 is 0.4668420490345851\n",
      "The cost at iteration 92000 is 0.4667362022190415\n",
      "The cost at iteration 93000 is 0.46663268497240046\n",
      "The cost at iteration 94000 is 0.4665314442078983\n",
      "The cost at iteration 95000 is 0.4664324280920114\n",
      "The cost at iteration 96000 is 0.46633558601403374\n",
      "The cost at iteration 97000 is 0.46624086855640645\n",
      "The cost at iteration 98000 is 0.46614822746577533\n",
      "The cost at iteration 99000 is 0.46605761562476095\n",
      "The cost at iteration 100000 is 0.4659689870244211\n",
      "The cost at iteration 101000 is 0.46588229673738885\n",
      "The cost at iteration 102000 is 0.4657975008916702\n",
      "The cost at iteration 103000 is 0.4657145566450834\n",
      "The cost at iteration 104000 is 0.4656334221603256\n",
      "The cost at iteration 105000 is 0.46555405658065246\n",
      "The cost at iteration 106000 is 0.46547642000615197\n",
      "The cost at iteration 107000 is 0.4654004734706039\n",
      "The cost at iteration 108000 is 0.4653261789189053\n",
      "The cost at iteration 109000 is 0.4652534991850521\n",
      "The cost at iteration 110000 is 0.46518239797066097\n",
      "The cost at iteration 111000 is 0.4651128398240206\n",
      "The cost at iteration 112000 is 0.46504479011965744\n",
      "The cost at iteration 113000 is 0.4649782150384053\n",
      "The cost at iteration 114000 is 0.46491308154796457\n",
      "The cost at iteration 115000 is 0.46484935738394173\n",
      "The cost at iteration 116000 is 0.46478701103135495\n",
      "The cost at iteration 117000 is 0.464726011706596\n",
      "The cost at iteration 118000 is 0.46466632933983665\n",
      "The cost at iteration 119000 is 0.4646079345578688\n",
      "The cost at iteration 120000 is 0.4645507986673684\n",
      "The cost at iteration 121000 is 0.46449489363857105\n",
      "The cost at iteration 122000 is 0.4644401920893508\n",
      "The cost at iteration 123000 is 0.4643866672696917\n",
      "The cost at iteration 124000 is 0.4643342930465419\n",
      "The cost at iteration 125000 is 0.4642830438890416\n",
      "The cost at iteration 126000 is 0.46423289485411506\n",
      "The cost at iteration 127000 is 0.46418382157241794\n",
      "The cost at iteration 128000 is 0.46413580023463047\n",
      "The cost at iteration 129000 is 0.46408880757808935\n",
      "The cost at iteration 130000 is 0.46404282087374804\n",
      "The cost at iteration 131000 is 0.4639978179134589\n",
      "The cost at iteration 132000 is 0.4639537769975681\n",
      "The cost at iteration 133000 is 0.463910676922816\n",
      "The cost at iteration 134000 is 0.46386849697053495\n",
      "The cost at iteration 135000 is 0.4638272168951375\n",
      "The cost at iteration 136000 is 0.4637868169128881\n",
      "The cost at iteration 137000 is 0.46374727769094987\n",
      "The cost at iteration 138000 is 0.4637085803367007\n",
      "The cost at iteration 139000 is 0.46367070638731167\n",
      "The cost at iteration 140000 is 0.4636336377995815\n",
      "The cost at iteration 141000 is 0.46359735694001913\n",
      "The cost at iteration 142000 is 0.46356184657517074\n",
      "The cost at iteration 143000 is 0.46352708986218266\n",
      "The cost at iteration 144000 is 0.46349307033959547\n",
      "The cost at iteration 145000 is 0.46345977191836396\n",
      "The cost at iteration 146000 is 0.4634271788730953\n",
      "The cost at iteration 147000 is 0.46339527583350276\n",
      "The cost at iteration 148000 is 0.46336404777606655\n",
      "The cost at iteration 149000 is 0.4633334800158993\n",
      "The cost at iteration 150000 is 0.4633035581988092\n",
      "The cost at iteration 151000 is 0.4632742682935565\n",
      "The cost at iteration 152000 is 0.46324559658429865\n",
      "The cost at iteration 153000 is 0.46321752966321933\n",
      "The cost at iteration 154000 is 0.4631900544233359\n",
      "The cost at iteration 155000 is 0.46316315805148256\n",
      "The cost at iteration 156000 is 0.4631368280214629\n",
      "The cost at iteration 157000 is 0.4631110520873687\n",
      "The cost at iteration 158000 is 0.463085818277061\n",
      "The cost at iteration 159000 is 0.4630611148858081\n",
      "The cost at iteration 160000 is 0.46303693047007827\n",
      "The cost at iteration 161000 is 0.46301325384148206\n",
      "The cost at iteration 162000 is 0.46299007406086046\n"
     ]
    },
    {
     "name": "stdout",
     "output_type": "stream",
     "text": [
      "The cost at iteration 163000 is 0.46296738043251656\n",
      "The cost at iteration 164000 is 0.46294516249858525\n",
      "The cost at iteration 165000 is 0.46292341003353954\n",
      "The cost at iteration 166000 is 0.4629021130388275\n",
      "The cost at iteration 167000 is 0.46288126173764016\n",
      "The cost at iteration 168000 is 0.4628608465698027\n",
      "The cost at iteration 169000 is 0.4628408581867904\n",
      "The cost at iteration 170000 is 0.46282128744686235\n",
      "The cost at iteration 171000 is 0.46280212541031274\n",
      "The cost at iteration 172000 is 0.46278336333483516\n",
      "The cost at iteration 173000 is 0.46276499267099797\n",
      "The cost at iteration 174000 is 0.4627470050578275\n",
      "The cost at iteration 175000 is 0.46272939231849686\n",
      "The cost at iteration 176000 is 0.46271214645611725\n",
      "The cost at iteration 177000 is 0.46269525964962965\n",
      "The cost at iteration 178000 is 0.4626787242497938\n",
      "The cost at iteration 179000 is 0.46266253277527314\n",
      "The cost at iteration 180000 is 0.4626466779088124\n",
      "The cost at iteration 181000 is 0.4626311524935052\n",
      "The cost at iteration 182000 is 0.46261594952915125\n",
      "The cost at iteration 183000 is 0.46260106216869873\n",
      "The cost at iteration 184000 is 0.46258648371477135\n",
      "The cost at iteration 185000 is 0.4625722076162774\n",
      "The cost at iteration 186000 is 0.4625582274650983\n",
      "The cost at iteration 187000 is 0.46254453699285586\n",
      "The cost at iteration 188000 is 0.46253113006775537\n",
      "The cost at iteration 189000 is 0.46251800069150273\n",
      "The cost at iteration 190000 is 0.4625051429962945\n",
      "The cost at iteration 191000 is 0.4624925512418783\n",
      "The cost at iteration 192000 is 0.46248021981268206\n",
      "The cost at iteration 193000 is 0.4624681432150107\n",
      "The cost at iteration 194000 is 0.46245631607430837\n",
      "The cost at iteration 195000 is 0.46244473313248513\n",
      "The cost at iteration 196000 is 0.46243338924530486\n",
      "The cost at iteration 197000 is 0.4624222793798354\n",
      "The cost at iteration 198000 is 0.4624113986119578\n",
      "The cost at iteration 199000 is 0.46240074212393273\n"
     ]
    },
    {
     "data": {
      "image/png": "[encoded data removed]",
      "text/plain": [
       "<Figure size 432x288 with 1 Axes>"
      ]
     },
     "metadata": {
      "needs_background": "light"
     },
     "output_type": "display_data"
    }
   ],
   "source": [
    "model.fit(X_train, y_train, num_iterations=200000, learning_rate=0.003)"
   ]
  },
  {
   "cell_type": "code",
   "execution_count": 65,
   "metadata": {},
   "outputs": [],
   "source": [
    "predictions = model.predict(X_test)"
   ]
  },
  {
   "cell_type": "code",
   "execution_count": 66,
   "metadata": {},
   "outputs": [
    {
     "data": {
      "text/plain": [
       "80.1526717557252"
      ]
     },
     "execution_count": 66,
     "metadata": {},
     "output_type": "execute_result"
    }
   ],
   "source": [
    "score = model.score(y_test, predictions)\n",
    "score"
   ]
  },
  {
   "cell_type": "markdown",
   "metadata": {},
   "source": [
    "## Comparing my model with a simple model that predicts survival for  all females and non-survival for all males"
   ]
  },
  {
   "cell_type": "code",
   "execution_count": 67,
   "metadata": {},
   "outputs": [],
   "source": [
    "base_rate_sex_model = titanic.Sex.map({'male':0, 'female':1})"
   ]
  },
  {
   "cell_type": "code",
   "execution_count": 68,
   "metadata": {},
   "outputs": [],
   "source": [
    "from sklearn.metrics import accuracy_score"
   ]
  },
  {
   "cell_type": "code",
   "execution_count": 69,
   "metadata": {},
   "outputs": [
    {
     "data": {
      "text/plain": [
       "0.7799847211611918"
      ]
     },
     "execution_count": 69,
     "metadata": {},
     "output_type": "execute_result"
    }
   ],
   "source": [
    "base_model_accuracy = accuracy_score(titanic.Survived, base_rate_sex_model)\n",
    "base_model_accuracy"
   ]
  },
  {
   "cell_type": "code",
   "execution_count": 70,
   "metadata": {},
   "outputs": [
    {
     "data": {
      "text/plain": [
       "True"
      ]
     },
     "execution_count": 70,
     "metadata": {},
     "output_type": "execute_result"
    }
   ],
   "source": [
    "score > base_model_accuracy"
   ]
  }
 ],
 "metadata": {
  "kernelspec": {
   "display_name": "Python 3",
   "language": "python",
   "name": "python3"
  },
  "language_info": {
   "codemirror_mode": {
    "name": "ipython",
    "version": 3
   },
   "file_extension": ".py",
   "mimetype": "text/x-python",
   "name": "python",
   "nbconvert_exporter": "python",
   "pygments_lexer": "ipython3",
   "version": "3.8.5"
  }
 },
 "nbformat": 4,
 "nbformat_minor": 4
}
