{
 "cells": [
  {
   "cell_type": "code",
   "execution_count": 531,
   "metadata": {},
   "outputs": [],
   "source": [
    "import numpy as np\n",
    "import pandas as pd\n",
    "import matplotlib.pyplot as plt\n",
    "import seaborn as sns"
   ]
  },
  {
   "cell_type": "code",
   "execution_count": 532,
   "metadata": {},
   "outputs": [],
   "source": [
    "titanic = pd.read_csv('data/titanic_clean.csv')"
   ]
  },
  {
   "cell_type": "code",
   "execution_count": 533,
   "metadata": {},
   "outputs": [
    {
     "data": {
      "text/html": [
       "<div>\n",
       "<style scoped>\n",
       "    .dataframe tbody tr th:only-of-type {\n",
       "        vertical-align: middle;\n",
       "    }\n",
       "\n",
       "    .dataframe tbody tr th {\n",
       "        vertical-align: top;\n",
       "    }\n",
       "\n",
       "    .dataframe thead th {\n",
       "        text-align: right;\n",
       "    }\n",
       "</style>\n",
       "<table border=\"1\" class=\"dataframe\">\n",
       "  <thead>\n",
       "    <tr style=\"text-align: right;\">\n",
       "      <th></th>\n",
       "      <th>Passengerid</th>\n",
       "      <th>Pclass</th>\n",
       "      <th>Survived</th>\n",
       "      <th>Sex</th>\n",
       "      <th>Age</th>\n",
       "      <th>Sibsp</th>\n",
       "      <th>Parch</th>\n",
       "      <th>Ticket</th>\n",
       "      <th>Fare</th>\n",
       "      <th>Cabin</th>\n",
       "      <th>Embarked</th>\n",
       "    </tr>\n",
       "  </thead>\n",
       "  <tbody>\n",
       "    <tr>\n",
       "      <th>0</th>\n",
       "      <td>1</td>\n",
       "      <td>1</td>\n",
       "      <td>1</td>\n",
       "      <td>female</td>\n",
       "      <td>29.0000</td>\n",
       "      <td>0</td>\n",
       "      <td>0</td>\n",
       "      <td>24160</td>\n",
       "      <td>211.3375</td>\n",
       "      <td>B5</td>\n",
       "      <td>S</td>\n",
       "    </tr>\n",
       "    <tr>\n",
       "      <th>1</th>\n",
       "      <td>2</td>\n",
       "      <td>1</td>\n",
       "      <td>1</td>\n",
       "      <td>male</td>\n",
       "      <td>0.9167</td>\n",
       "      <td>1</td>\n",
       "      <td>2</td>\n",
       "      <td>113781</td>\n",
       "      <td>151.5500</td>\n",
       "      <td>C22 C26</td>\n",
       "      <td>S</td>\n",
       "    </tr>\n",
       "    <tr>\n",
       "      <th>2</th>\n",
       "      <td>3</td>\n",
       "      <td>1</td>\n",
       "      <td>0</td>\n",
       "      <td>female</td>\n",
       "      <td>2.0000</td>\n",
       "      <td>1</td>\n",
       "      <td>2</td>\n",
       "      <td>113781</td>\n",
       "      <td>151.5500</td>\n",
       "      <td>C22 C26</td>\n",
       "      <td>S</td>\n",
       "    </tr>\n",
       "    <tr>\n",
       "      <th>3</th>\n",
       "      <td>4</td>\n",
       "      <td>1</td>\n",
       "      <td>0</td>\n",
       "      <td>male</td>\n",
       "      <td>30.0000</td>\n",
       "      <td>1</td>\n",
       "      <td>2</td>\n",
       "      <td>113781</td>\n",
       "      <td>151.5500</td>\n",
       "      <td>C22 C26</td>\n",
       "      <td>S</td>\n",
       "    </tr>\n",
       "    <tr>\n",
       "      <th>4</th>\n",
       "      <td>5</td>\n",
       "      <td>1</td>\n",
       "      <td>0</td>\n",
       "      <td>female</td>\n",
       "      <td>25.0000</td>\n",
       "      <td>1</td>\n",
       "      <td>2</td>\n",
       "      <td>113781</td>\n",
       "      <td>151.5500</td>\n",
       "      <td>C22 C26</td>\n",
       "      <td>S</td>\n",
       "    </tr>\n",
       "  </tbody>\n",
       "</table>\n",
       "</div>"
      ],
      "text/plain": [
       "   Passengerid  Pclass  Survived     Sex      Age  Sibsp  Parch  Ticket  \\\n",
       "0            1       1         1  female  29.0000      0      0   24160   \n",
       "1            2       1         1    male   0.9167      1      2  113781   \n",
       "2            3       1         0  female   2.0000      1      2  113781   \n",
       "3            4       1         0    male  30.0000      1      2  113781   \n",
       "4            5       1         0  female  25.0000      1      2  113781   \n",
       "\n",
       "       Fare    Cabin Embarked  \n",
       "0  211.3375       B5        S  \n",
       "1  151.5500  C22 C26        S  \n",
       "2  151.5500  C22 C26        S  \n",
       "3  151.5500  C22 C26        S  \n",
       "4  151.5500  C22 C26        S  "
      ]
     },
     "execution_count": 533,
     "metadata": {},
     "output_type": "execute_result"
    }
   ],
   "source": [
    "titanic.head()"
   ]
  },
  {
   "cell_type": "markdown",
   "metadata": {},
   "source": [
    "## Exploratory Data Analysis"
   ]
  },
  {
   "cell_type": "code",
   "execution_count": 534,
   "metadata": {},
   "outputs": [
    {
     "data": {
      "text/plain": [
       "Passengerid       0\n",
       "Pclass            0\n",
       "Survived          0\n",
       "Sex               0\n",
       "Age             263\n",
       "Sibsp             0\n",
       "Parch             0\n",
       "Ticket            0\n",
       "Fare              1\n",
       "Cabin          1014\n",
       "Embarked          2\n",
       "dtype: int64"
      ]
     },
     "execution_count": 534,
     "metadata": {},
     "output_type": "execute_result"
    }
   ],
   "source": [
    "titanic.isna().sum()"
   ]
  },
  {
   "cell_type": "code",
   "execution_count": 535,
   "metadata": {},
   "outputs": [
    {
     "data": {
      "text/html": [
       "<div>\n",
       "<style scoped>\n",
       "    .dataframe tbody tr th:only-of-type {\n",
       "        vertical-align: middle;\n",
       "    }\n",
       "\n",
       "    .dataframe tbody tr th {\n",
       "        vertical-align: top;\n",
       "    }\n",
       "\n",
       "    .dataframe thead th {\n",
       "        text-align: right;\n",
       "    }\n",
       "</style>\n",
       "<table border=\"1\" class=\"dataframe\">\n",
       "  <thead>\n",
       "    <tr style=\"text-align: right;\">\n",
       "      <th></th>\n",
       "      <th>Passengerid</th>\n",
       "      <th>Pclass</th>\n",
       "      <th>Survived</th>\n",
       "      <th>Age</th>\n",
       "      <th>Sibsp</th>\n",
       "      <th>Parch</th>\n",
       "      <th>Fare</th>\n",
       "    </tr>\n",
       "  </thead>\n",
       "  <tbody>\n",
       "    <tr>\n",
       "      <th>Passengerid</th>\n",
       "      <td>1.000000</td>\n",
       "      <td>0.897822</td>\n",
       "      <td>-0.293717</td>\n",
       "      <td>-0.343888</td>\n",
       "      <td>0.065594</td>\n",
       "      <td>0.003584</td>\n",
       "      <td>-0.481215</td>\n",
       "    </tr>\n",
       "    <tr>\n",
       "      <th>Pclass</th>\n",
       "      <td>0.897822</td>\n",
       "      <td>1.000000</td>\n",
       "      <td>-0.312469</td>\n",
       "      <td>-0.408106</td>\n",
       "      <td>0.060832</td>\n",
       "      <td>0.018322</td>\n",
       "      <td>-0.558629</td>\n",
       "    </tr>\n",
       "    <tr>\n",
       "      <th>Survived</th>\n",
       "      <td>-0.293717</td>\n",
       "      <td>-0.312469</td>\n",
       "      <td>1.000000</td>\n",
       "      <td>-0.055513</td>\n",
       "      <td>-0.027825</td>\n",
       "      <td>0.082660</td>\n",
       "      <td>0.244265</td>\n",
       "    </tr>\n",
       "    <tr>\n",
       "      <th>Age</th>\n",
       "      <td>-0.343888</td>\n",
       "      <td>-0.408106</td>\n",
       "      <td>-0.055513</td>\n",
       "      <td>1.000000</td>\n",
       "      <td>-0.243699</td>\n",
       "      <td>-0.150917</td>\n",
       "      <td>0.178739</td>\n",
       "    </tr>\n",
       "    <tr>\n",
       "      <th>Sibsp</th>\n",
       "      <td>0.065594</td>\n",
       "      <td>0.060832</td>\n",
       "      <td>-0.027825</td>\n",
       "      <td>-0.243699</td>\n",
       "      <td>1.000000</td>\n",
       "      <td>0.373587</td>\n",
       "      <td>0.160238</td>\n",
       "    </tr>\n",
       "    <tr>\n",
       "      <th>Parch</th>\n",
       "      <td>0.003584</td>\n",
       "      <td>0.018322</td>\n",
       "      <td>0.082660</td>\n",
       "      <td>-0.150917</td>\n",
       "      <td>0.373587</td>\n",
       "      <td>1.000000</td>\n",
       "      <td>0.221539</td>\n",
       "    </tr>\n",
       "    <tr>\n",
       "      <th>Fare</th>\n",
       "      <td>-0.481215</td>\n",
       "      <td>-0.558629</td>\n",
       "      <td>0.244265</td>\n",
       "      <td>0.178739</td>\n",
       "      <td>0.160238</td>\n",
       "      <td>0.221539</td>\n",
       "      <td>1.000000</td>\n",
       "    </tr>\n",
       "  </tbody>\n",
       "</table>\n",
       "</div>"
      ],
      "text/plain": [
       "             Passengerid    Pclass  Survived       Age     Sibsp     Parch  \\\n",
       "Passengerid     1.000000  0.897822 -0.293717 -0.343888  0.065594  0.003584   \n",
       "Pclass          0.897822  1.000000 -0.312469 -0.408106  0.060832  0.018322   \n",
       "Survived       -0.293717 -0.312469  1.000000 -0.055513 -0.027825  0.082660   \n",
       "Age            -0.343888 -0.408106 -0.055513  1.000000 -0.243699 -0.150917   \n",
       "Sibsp           0.065594  0.060832 -0.027825 -0.243699  1.000000  0.373587   \n",
       "Parch           0.003584  0.018322  0.082660 -0.150917  0.373587  1.000000   \n",
       "Fare           -0.481215 -0.558629  0.244265  0.178739  0.160238  0.221539   \n",
       "\n",
       "                 Fare  \n",
       "Passengerid -0.481215  \n",
       "Pclass      -0.558629  \n",
       "Survived     0.244265  \n",
       "Age          0.178739  \n",
       "Sibsp        0.160238  \n",
       "Parch        0.221539  \n",
       "Fare         1.000000  "
      ]
     },
     "execution_count": 535,
     "metadata": {},
     "output_type": "execute_result"
    }
   ],
   "source": [
    "titanic.corr()"
   ]
  },
  {
   "cell_type": "code",
   "execution_count": 536,
   "metadata": {},
   "outputs": [
    {
     "data": {
      "text/html": [
       "<div>\n",
       "<style scoped>\n",
       "    .dataframe tbody tr th:only-of-type {\n",
       "        vertical-align: middle;\n",
       "    }\n",
       "\n",
       "    .dataframe tbody tr th {\n",
       "        vertical-align: top;\n",
       "    }\n",
       "\n",
       "    .dataframe thead th {\n",
       "        text-align: right;\n",
       "    }\n",
       "</style>\n",
       "<table border=\"1\" class=\"dataframe\">\n",
       "  <thead>\n",
       "    <tr style=\"text-align: right;\">\n",
       "      <th></th>\n",
       "      <th>Passengerid</th>\n",
       "      <th>Pclass</th>\n",
       "      <th>Survived</th>\n",
       "      <th>Age</th>\n",
       "      <th>Sibsp</th>\n",
       "      <th>Parch</th>\n",
       "      <th>Fare</th>\n",
       "    </tr>\n",
       "  </thead>\n",
       "  <tbody>\n",
       "    <tr>\n",
       "      <th>count</th>\n",
       "      <td>1309.000000</td>\n",
       "      <td>1309.000000</td>\n",
       "      <td>1309.000000</td>\n",
       "      <td>1046.000000</td>\n",
       "      <td>1309.000000</td>\n",
       "      <td>1309.000000</td>\n",
       "      <td>1308.000000</td>\n",
       "    </tr>\n",
       "    <tr>\n",
       "      <th>mean</th>\n",
       "      <td>655.000000</td>\n",
       "      <td>2.294882</td>\n",
       "      <td>0.381971</td>\n",
       "      <td>29.881135</td>\n",
       "      <td>0.498854</td>\n",
       "      <td>0.385027</td>\n",
       "      <td>33.295479</td>\n",
       "    </tr>\n",
       "    <tr>\n",
       "      <th>std</th>\n",
       "      <td>378.020061</td>\n",
       "      <td>0.837836</td>\n",
       "      <td>0.486055</td>\n",
       "      <td>14.413500</td>\n",
       "      <td>1.041658</td>\n",
       "      <td>0.865560</td>\n",
       "      <td>51.758668</td>\n",
       "    </tr>\n",
       "    <tr>\n",
       "      <th>min</th>\n",
       "      <td>1.000000</td>\n",
       "      <td>1.000000</td>\n",
       "      <td>0.000000</td>\n",
       "      <td>0.166700</td>\n",
       "      <td>0.000000</td>\n",
       "      <td>0.000000</td>\n",
       "      <td>0.000000</td>\n",
       "    </tr>\n",
       "    <tr>\n",
       "      <th>25%</th>\n",
       "      <td>328.000000</td>\n",
       "      <td>2.000000</td>\n",
       "      <td>0.000000</td>\n",
       "      <td>21.000000</td>\n",
       "      <td>0.000000</td>\n",
       "      <td>0.000000</td>\n",
       "      <td>7.895800</td>\n",
       "    </tr>\n",
       "    <tr>\n",
       "      <th>50%</th>\n",
       "      <td>655.000000</td>\n",
       "      <td>3.000000</td>\n",
       "      <td>0.000000</td>\n",
       "      <td>28.000000</td>\n",
       "      <td>0.000000</td>\n",
       "      <td>0.000000</td>\n",
       "      <td>14.454200</td>\n",
       "    </tr>\n",
       "    <tr>\n",
       "      <th>75%</th>\n",
       "      <td>982.000000</td>\n",
       "      <td>3.000000</td>\n",
       "      <td>1.000000</td>\n",
       "      <td>39.000000</td>\n",
       "      <td>1.000000</td>\n",
       "      <td>0.000000</td>\n",
       "      <td>31.275000</td>\n",
       "    </tr>\n",
       "    <tr>\n",
       "      <th>max</th>\n",
       "      <td>1309.000000</td>\n",
       "      <td>3.000000</td>\n",
       "      <td>1.000000</td>\n",
       "      <td>80.000000</td>\n",
       "      <td>8.000000</td>\n",
       "      <td>9.000000</td>\n",
       "      <td>512.329200</td>\n",
       "    </tr>\n",
       "  </tbody>\n",
       "</table>\n",
       "</div>"
      ],
      "text/plain": [
       "       Passengerid       Pclass     Survived          Age        Sibsp  \\\n",
       "count  1309.000000  1309.000000  1309.000000  1046.000000  1309.000000   \n",
       "mean    655.000000     2.294882     0.381971    29.881135     0.498854   \n",
       "std     378.020061     0.837836     0.486055    14.413500     1.041658   \n",
       "min       1.000000     1.000000     0.000000     0.166700     0.000000   \n",
       "25%     328.000000     2.000000     0.000000    21.000000     0.000000   \n",
       "50%     655.000000     3.000000     0.000000    28.000000     0.000000   \n",
       "75%     982.000000     3.000000     1.000000    39.000000     1.000000   \n",
       "max    1309.000000     3.000000     1.000000    80.000000     8.000000   \n",
       "\n",
       "             Parch         Fare  \n",
       "count  1309.000000  1308.000000  \n",
       "mean      0.385027    33.295479  \n",
       "std       0.865560    51.758668  \n",
       "min       0.000000     0.000000  \n",
       "25%       0.000000     7.895800  \n",
       "50%       0.000000    14.454200  \n",
       "75%       0.000000    31.275000  \n",
       "max       9.000000   512.329200  "
      ]
     },
     "execution_count": 536,
     "metadata": {},
     "output_type": "execute_result"
    }
   ],
   "source": [
    "titanic.describe()"
   ]
  },
  {
   "cell_type": "code",
   "execution_count": 537,
   "metadata": {},
   "outputs": [
    {
     "name": "stdout",
     "output_type": "stream",
     "text": [
      "<class 'pandas.core.frame.DataFrame'>\n",
      "RangeIndex: 1309 entries, 0 to 1308\n",
      "Data columns (total 11 columns):\n",
      " #   Column       Non-Null Count  Dtype  \n",
      "---  ------       --------------  -----  \n",
      " 0   Passengerid  1309 non-null   int64  \n",
      " 1   Pclass       1309 non-null   int64  \n",
      " 2   Survived     1309 non-null   int64  \n",
      " 3   Sex          1309 non-null   object \n",
      " 4   Age          1046 non-null   float64\n",
      " 5   Sibsp        1309 non-null   int64  \n",
      " 6   Parch        1309 non-null   int64  \n",
      " 7   Ticket       1309 non-null   object \n",
      " 8   Fare         1308 non-null   float64\n",
      " 9   Cabin        295 non-null    object \n",
      " 10  Embarked     1307 non-null   object \n",
      "dtypes: float64(2), int64(5), object(4)\n",
      "memory usage: 112.6+ KB\n"
     ]
    }
   ],
   "source": [
    "titanic.info()"
   ]
  },
  {
   "cell_type": "code",
   "execution_count": 538,
   "metadata": {},
   "outputs": [],
   "source": [
    "#upper_outlier = train_df.Fare.quantile(0.95)\n",
    "#train_data = train_df[train_df.Fare < upper_outlier].copy()"
   ]
  },
  {
   "cell_type": "markdown",
   "metadata": {},
   "source": [
    "## Handling missing values for age and fare"
   ]
  },
  {
   "cell_type": "code",
   "execution_count": 539,
   "metadata": {},
   "outputs": [],
   "source": [
    "titanic.Age.fillna(titanic.groupby(['Pclass']).Age.transform('mean'), inplace = True)"
   ]
  },
  {
   "cell_type": "code",
   "execution_count": 540,
   "metadata": {},
   "outputs": [
    {
     "data": {
      "text/plain": [
       "0"
      ]
     },
     "execution_count": 540,
     "metadata": {},
     "output_type": "execute_result"
    }
   ],
   "source": [
    "sum(titanic.Age.isna())"
   ]
  },
  {
   "cell_type": "code",
   "execution_count": 541,
   "metadata": {},
   "outputs": [],
   "source": [
    "titanic.Fare.fillna(titanic.groupby(['Pclass']).Fare.transform('mean'), inplace = True)"
   ]
  },
  {
   "cell_type": "code",
   "execution_count": 542,
   "metadata": {},
   "outputs": [
    {
     "data": {
      "text/plain": [
       "0"
      ]
     },
     "execution_count": 542,
     "metadata": {},
     "output_type": "execute_result"
    }
   ],
   "source": [
    "sum(titanic.Fare.isna())"
   ]
  },
  {
   "cell_type": "markdown",
   "metadata": {},
   "source": [
    "## Handling missing values in Cabin-column by dropping the whole column"
   ]
  },
  {
   "cell_type": "code",
   "execution_count": 543,
   "metadata": {},
   "outputs": [],
   "source": [
    "titanic.drop(columns=['Cabin'], inplace = True)"
   ]
  },
  {
   "cell_type": "markdown",
   "metadata": {},
   "source": [
    "## Feature engineering"
   ]
  },
  {
   "cell_type": "code",
   "execution_count": null,
   "metadata": {},
   "outputs": [],
   "source": []
  },
  {
   "cell_type": "markdown",
   "metadata": {},
   "source": [
    "# Implementing logistic regression from scratch"
   ]
  },
  {
   "cell_type": "code",
   "execution_count": 544,
   "metadata": {},
   "outputs": [],
   "source": [
    "def sigmoid(z):\n",
    "    return 1/(1+np.exp(-z))"
   ]
  },
  {
   "cell_type": "code",
   "execution_count": 545,
   "metadata": {},
   "outputs": [],
   "source": [
    "def calculate_loss(Y, y_hat):\n",
    "    \"\"\"Calculates the binary cross entropy loss\"\"\"\n",
    "    m = len(Y)\n",
    "    loss = (-1/m)*np.sum((Y*np.log(y_hat)) + (1-Y)*np.log(1-y_hat))\n",
    "    return loss"
   ]
  },
  {
   "cell_type": "code",
   "execution_count": 546,
   "metadata": {},
   "outputs": [],
   "source": [
    "def gradient_descent(X, Y, num_iterations=50000, learning_rate=0.001, plot_cost=True):\n",
    "    X = np.vstack([np.ones(X.shape[0]), X.T])\n",
    "    theta = np.zeros(X.shape[0]).reshape(-1, 1) # initializing weights and bias\n",
    "    m = len(Y)\n",
    "    costs = []\n",
    "    \n",
    "    y_hat = sigmoid(np.dot(X.T, theta))\n",
    "    cost = calculate_loss(Y, y_hat)\n",
    "    \n",
    "    for i in range(num_iterations):\n",
    "        theta = theta - learning_rate*((1/m)*np.dot(X, (y_hat-Y)))\n",
    "        y_hat = sigmoid(np.dot(X.T, theta))\n",
    "        cost = calculate_loss(Y, y_hat)\n",
    "        \n",
    "        if plot_cost and i % 1000 == 0:\n",
    "            print(f'The cost at iteration {i} is {cost}')\n",
    "        if plot_cost and i % 10 == 0:\n",
    "            costs.append(cost)\n",
    "        \n",
    "    if plot_cost:\n",
    "        plt.plot(costs)\n",
    "        plt.xlabel('Number of iterations (per tenth)')\n",
    "        plt.ylabel('Cost')\n",
    "        plt.title('Learning rate = ' + str(learning_rate))\n",
    "    \n",
    "    return y_hat, theta, cost"
   ]
  },
  {
   "cell_type": "code",
   "execution_count": 547,
   "metadata": {},
   "outputs": [],
   "source": [
    "def predict(X, model, decision_boundary=0.5):\n",
    "    X = np.vstack([np.ones(X.shape[0]), X.T])\n",
    "    y_hat = sigmoid(np.dot(X.T, model))\n",
    "    return np.where(y_hat > decision_boundary, 1, 0)"
   ]
  },
  {
   "cell_type": "code",
   "execution_count": 548,
   "metadata": {},
   "outputs": [],
   "source": [
    "def score():\n",
    "    pass"
   ]
  },
  {
   "cell_type": "markdown",
   "metadata": {},
   "source": [
    "## Splitting dataset into train- and test-sets."
   ]
  },
  {
   "cell_type": "code",
   "execution_count": 549,
   "metadata": {},
   "outputs": [
    {
     "data": {
      "text/plain": [
       "(1309, 10)"
      ]
     },
     "execution_count": 549,
     "metadata": {},
     "output_type": "execute_result"
    }
   ],
   "source": [
    "titanic.shape"
   ]
  },
  {
   "cell_type": "code",
   "execution_count": 550,
   "metadata": {},
   "outputs": [],
   "source": [
    "def shuffle_and_split_data(X, y, train_size):\n",
    "    X_train = X.sample(frac=train_size, random_state = 42)\n",
    "    X_test = X.loc[~X.index.isin(X_train.index)].copy()\n",
    "    X_test = X_test.sample(frac=1, random_state = 42)\n",
    "    \n",
    "    y_train = y.sample(frac=train_size, random_state = 42)\n",
    "    y_test = y.loc[~y.index.isin(y_train)].copy()\n",
    "    y_test = y_test.sample(frac=1, random_state = 42)\n",
    "    \n",
    "    return (X_train, X_test, y_train, y_test)"
   ]
  },
  {
   "cell_type": "markdown",
   "metadata": {},
   "source": [
    "# Training the model"
   ]
  },
  {
   "cell_type": "code",
   "execution_count": 551,
   "metadata": {},
   "outputs": [],
   "source": [
    "y = titanic['Survived'].values.reshape(-1,1)\n",
    "dummies = pd.get_dummies(titanic[['Pclass', 'Sex', 'Embarked']], drop_first=True)\n",
    "X = pd.concat([dummies, titanic[['Age', 'Fare', 'Sibsp', 'Parch']]], axis=1).values"
   ]
  },
  {
   "cell_type": "code",
   "execution_count": 552,
   "metadata": {},
   "outputs": [],
   "source": [
    "from sklearn.model_selection import train_test_split"
   ]
  },
  {
   "cell_type": "code",
   "execution_count": 553,
   "metadata": {},
   "outputs": [],
   "source": [
    "X_train, X_test, y_train, y_test = train_test_split(X, y, test_size = 0.3, random_state = 42)"
   ]
  },
  {
   "cell_type": "code",
   "execution_count": 554,
   "metadata": {},
   "outputs": [
    {
     "data": {
      "text/plain": [
       "((916, 8), (393, 8), (916, 1), (393, 1))"
      ]
     },
     "execution_count": 554,
     "metadata": {},
     "output_type": "execute_result"
    }
   ],
   "source": [
    "X_train.shape, X_test.shape, y_train.shape, y_test.shape"
   ]
  },
  {
   "cell_type": "code",
   "execution_count": 584,
   "metadata": {},
   "outputs": [
    {
     "name": "stdout",
     "output_type": "stream",
     "text": [
      "The cost at iteration 0 is 0.6580895820349894\n",
      "The cost at iteration 1000 is 0.5795402953404699\n",
      "The cost at iteration 2000 is 0.5622228136163286\n",
      "The cost at iteration 3000 is 0.5499359711328001\n",
      "The cost at iteration 4000 is 0.5401588408519364\n",
      "The cost at iteration 5000 is 0.5321853051341614\n",
      "The cost at iteration 6000 is 0.5256045938198856\n",
      "The cost at iteration 7000 is 0.5201251922585\n",
      "The cost at iteration 8000 is 0.5155282830473433\n",
      "The cost at iteration 9000 is 0.5116450320774303\n",
      "The cost at iteration 10000 is 0.5083428887757868\n",
      "The cost at iteration 11000 is 0.505516556499325\n",
      "The cost at iteration 12000 is 0.5030816837823551\n",
      "The cost at iteration 13000 is 0.500970267240791\n",
      "The cost at iteration 14000 is 0.4991272015130233\n",
      "The cost at iteration 15000 is 0.49750763725767844\n",
      "The cost at iteration 16000 is 0.496074929732602\n",
      "The cost at iteration 17000 is 0.4947990302826472\n",
      "The cost at iteration 18000 is 0.4936552159309185\n",
      "The cost at iteration 19000 is 0.4926230802630476\n",
      "The cost at iteration 20000 is 0.49168572803349725\n",
      "The cost at iteration 21000 is 0.49082912966915193\n",
      "The cost at iteration 22000 is 0.4900416019450912\n",
      "The cost at iteration 23000 is 0.48931338867355945\n",
      "The cost at iteration 24000 is 0.48863632099223836\n",
      "The cost at iteration 25000 is 0.48800354124213924\n",
      "The cost at iteration 26000 is 0.4874092778255676\n",
      "The cost at iteration 27000 is 0.48684866107407987\n",
      "The cost at iteration 28000 is 0.4863175722146878\n",
      "The cost at iteration 29000 is 0.4858125191341849\n",
      "The cost at iteration 30000 is 0.48533053390795544\n",
      "The cost at iteration 31000 is 0.48486908805837053\n",
      "The cost at iteration 32000 is 0.4844260222981225\n",
      "The cost at iteration 33000 is 0.4839994881411809\n",
      "The cost at iteration 34000 is 0.48358789926364804\n",
      "The cost at iteration 35000 is 0.4831898908959288\n",
      "The cost at iteration 36000 is 0.4828042858474905\n",
      "The cost at iteration 37000 is 0.48243006602260635\n",
      "The cost at iteration 38000 is 0.48206634849277563\n",
      "The cost at iteration 39000 is 0.4817123653591365\n",
      "The cost at iteration 40000 is 0.4813674467741155\n",
      "The cost at iteration 41000 is 0.4810310066020978\n",
      "The cost at iteration 42000 is 0.48070253028902704\n",
      "The cost at iteration 43000 is 0.4803815645845388\n",
      "The cost at iteration 44000 is 0.4800677088206242\n",
      "The cost at iteration 45000 is 0.4797606075004543\n",
      "The cost at iteration 46000 is 0.47945994399187847\n",
      "The cost at iteration 47000 is 0.47916543515385773\n",
      "The cost at iteration 48000 is 0.4788768267520314\n",
      "The cost at iteration 49000 is 0.4785938895427749\n",
      "The cost at iteration 50000 is 0.4783164159243606\n",
      "The cost at iteration 51000 is 0.4780442170698679\n",
      "The cost at iteration 52000 is 0.4777771204698648\n",
      "The cost at iteration 53000 is 0.4775149678240738\n",
      "The cost at iteration 54000 is 0.47725761323059895\n",
      "The cost at iteration 55000 is 0.47700492162915964\n",
      "The cost at iteration 56000 is 0.4767567674613801\n",
      "The cost at iteration 57000 is 0.4765130335167511\n",
      "The cost at iteration 58000 is 0.4762736099375708\n",
      "The cost at iteration 59000 is 0.4760383933601376\n",
      "The cost at iteration 60000 is 0.4758072861728168\n",
      "The cost at iteration 61000 is 0.47558019587444655\n",
      "The cost at iteration 62000 is 0.47535703451895234\n",
      "The cost at iteration 63000 is 0.47513771823409073\n",
      "The cost at iteration 64000 is 0.4749221668039783\n",
      "The cost at iteration 65000 is 0.4747103033065441\n",
      "The cost at iteration 66000 is 0.4745020537983082\n",
      "The cost at iteration 67000 is 0.47429734703996423\n",
      "The cost at iteration 68000 is 0.4740961142571657\n",
      "The cost at iteration 69000 is 0.47389828893170105\n",
      "The cost at iteration 70000 is 0.4737038066189182\n",
      "The cost at iteration 71000 is 0.47351260478783486\n",
      "The cost at iteration 72000 is 0.4733246226808659\n",
      "The cost at iteration 73000 is 0.47313980119052396\n",
      "The cost at iteration 74000 is 0.4729580827508139\n",
      "The cost at iteration 75000 is 0.4727794112413551\n",
      "The cost at iteration 76000 is 0.472603731902534\n",
      "The cost at iteration 77000 is 0.47243099126022414\n",
      "The cost at iteration 78000 is 0.4722611370588063\n",
      "The cost at iteration 79000 is 0.4720941182013971\n",
      "The cost at iteration 80000 is 0.4719298846963412\n",
      "The cost at iteration 81000 is 0.4717683876091494\n",
      "The cost at iteration 82000 is 0.4716095790191767\n",
      "The cost at iteration 83000 is 0.47145341198042884\n",
      "The cost at iteration 84000 is 0.47129984048596824\n",
      "The cost at iteration 85000 is 0.47114881943546216\n",
      "The cost at iteration 86000 is 0.4710003046054741\n",
      "The cost at iteration 87000 is 0.47085425262215824\n",
      "The cost at iteration 88000 is 0.470710620936057\n",
      "The cost at iteration 89000 is 0.47056936779874464\n",
      "The cost at iteration 90000 is 0.47043045224109387\n",
      "The cost at iteration 91000 is 0.47029383405296976\n",
      "The cost at iteration 92000 is 0.4701594737641858\n",
      "The cost at iteration 93000 is 0.4700273326265745\n",
      "The cost at iteration 94000 is 0.46989737259704484\n",
      "The cost at iteration 95000 is 0.4697695563215208\n",
      "The cost at iteration 96000 is 0.4696438471196598\n",
      "The cost at iteration 97000 is 0.4695202089702746\n",
      "The cost at iteration 98000 is 0.4693986064973812\n",
      "The cost at iteration 99000 is 0.4692790049568129\n",
      "The cost at iteration 100000 is 0.46916137022334636\n",
      "The cost at iteration 101000 is 0.4690456687782897\n",
      "The cost at iteration 102000 is 0.46893186769749445\n",
      "The cost at iteration 103000 is 0.468819934639753\n",
      "The cost at iteration 104000 is 0.46870983783555054\n",
      "The cost at iteration 105000 is 0.4686015460761452\n",
      "The cost at iteration 106000 is 0.46849502870295023\n",
      "The cost at iteration 107000 is 0.46839025559719893\n",
      "The cost at iteration 108000 is 0.46828719716987327\n",
      "The cost at iteration 109000 is 0.4681858243518784\n",
      "The cost at iteration 110000 is 0.4680861085844514\n",
      "The cost at iteration 111000 is 0.46798802180978966\n",
      "The cost at iteration 112000 is 0.4678915364618878\n",
      "The cost at iteration 113000 is 0.4677966254575738\n",
      "The cost at iteration 114000 is 0.4677032621877345\n",
      "The cost at iteration 115000 is 0.46761142050872423\n",
      "The cost at iteration 116000 is 0.4675210747339468\n",
      "The cost at iteration 117000 is 0.4674321996256067\n",
      "The cost at iteration 118000 is 0.46734477038662325\n",
      "The cost at iteration 119000 is 0.46725876265270055\n",
      "The cost at iteration 120000 is 0.4671741524845514\n",
      "The cost at iteration 121000 is 0.46709091636026834\n",
      "The cost at iteration 122000 is 0.4670090311678382\n",
      "The cost at iteration 123000 is 0.46692847419779837\n",
      "The cost at iteration 124000 is 0.4668492231360275\n",
      "The cost at iteration 125000 is 0.4667712560566713\n",
      "The cost at iteration 126000 is 0.4666945514151973\n",
      "The cost at iteration 127000 is 0.46661908804157776\n",
      "The cost at iteration 128000 is 0.4665448451335969\n",
      "The cost at iteration 129000 is 0.4664718022502795\n",
      "The cost at iteration 130000 is 0.4663999393054398\n",
      "The cost at iteration 131000 is 0.4663292365613471\n",
      "The cost at iteration 132000 is 0.4662596746225056\n",
      "The cost at iteration 133000 is 0.4661912344295478\n",
      "The cost at iteration 134000 is 0.46612389725323716\n",
      "The cost at iteration 135000 is 0.46605764468858013\n",
      "The cost at iteration 136000 is 0.46599245864904376\n",
      "The cost at iteration 137000 is 0.4659283213608779\n",
      "The cost at iteration 138000 is 0.46586521535754016\n",
      "The cost at iteration 139000 is 0.46580312347422087\n",
      "The cost at iteration 140000 is 0.46574202884246774\n",
      "The cost at iteration 141000 is 0.46568191488490596\n",
      "The cost at iteration 142000 is 0.46562276531005586\n",
      "The cost at iteration 143000 is 0.4655645641072421\n",
      "The cost at iteration 144000 is 0.46550729554159603\n",
      "The cost at iteration 145000 is 0.46545094414914745\n",
      "The cost at iteration 146000 is 0.465395494732006\n",
      "The cost at iteration 147000 is 0.46534093235362894\n",
      "The cost at iteration 148000 is 0.46528724233417507\n",
      "The cost at iteration 149000 is 0.4652344102459421\n",
      "The cost at iteration 150000 is 0.4651824219088868\n",
      "The cost at iteration 151000 is 0.4651312633862264\n",
      "The cost at iteration 152000 is 0.4650809209801198\n",
      "The cost at iteration 153000 is 0.46503138122742615\n",
      "The cost at iteration 154000 is 0.46498263089554154\n",
      "The cost at iteration 155000 is 0.46493465697830977\n",
      "The cost at iteration 156000 is 0.46488744669200854\n",
      "The cost at iteration 157000 is 0.4648409874714072\n",
      "The cost at iteration 158000 is 0.4647952669658969\n",
      "The cost at iteration 159000 is 0.4647502730356906\n",
      "The cost at iteration 160000 is 0.4647059937480919\n",
      "The cost at iteration 161000 is 0.4646624173738314\n",
      "The cost at iteration 162000 is 0.4646195323834703\n",
      "The cost at iteration 163000 is 0.46457732744386815\n",
      "The cost at iteration 164000 is 0.4645357914147158\n"
     ]
    },
    {
     "name": "stdout",
     "output_type": "stream",
     "text": [
      "The cost at iteration 165000 is 0.4644949133451304\n",
      "The cost at iteration 166000 is 0.4644546824703124\n",
      "The cost at iteration 167000 is 0.46441508820826366\n",
      "The cost at iteration 168000 is 0.46437612015656465\n",
      "The cost at iteration 169000 is 0.46433776808921023\n",
      "The cost at iteration 170000 is 0.4643000219535026\n",
      "The cost at iteration 171000 is 0.4642628718670015\n",
      "The cost at iteration 172000 is 0.4642263081145282\n",
      "The cost at iteration 173000 is 0.46419032114522585\n",
      "The cost at iteration 174000 is 0.464154901569671\n",
      "The cost at iteration 175000 is 0.46412004015703895\n",
      "The cost at iteration 176000 is 0.4640857278323201\n",
      "The cost at iteration 177000 is 0.46405195567358676\n",
      "The cost at iteration 178000 is 0.4640187149093088\n",
      "The cost at iteration 179000 is 0.46398599691571935\n",
      "The cost at iteration 180000 is 0.463953793214227\n",
      "The cost at iteration 181000 is 0.4639220954688751\n",
      "The cost at iteration 182000 is 0.4638908954838475\n",
      "The cost at iteration 183000 is 0.46386018520101907\n",
      "The cost at iteration 184000 is 0.46382995669755045\n",
      "The cost at iteration 185000 is 0.46380020218352647\n",
      "The cost at iteration 186000 is 0.4637709139996371\n",
      "The cost at iteration 187000 is 0.463742084614901\n",
      "The cost at iteration 188000 is 0.4637137066244287\n",
      "The cost at iteration 189000 is 0.4636857727472277\n",
      "The cost at iteration 190000 is 0.46365827582404634\n",
      "The cost at iteration 191000 is 0.463631208815257\n",
      "The cost at iteration 192000 is 0.463604564798777\n",
      "The cost at iteration 193000 is 0.4635783369680274\n",
      "The cost at iteration 194000 is 0.4635525186299284\n",
      "The cost at iteration 195000 is 0.4635271032029309\n",
      "The cost at iteration 196000 is 0.4635020842150833\n",
      "The cost at iteration 197000 is 0.4634774553021337\n",
      "The cost at iteration 198000 is 0.4634532102056651\n",
      "The cost at iteration 199000 is 0.4634293427712656\n",
      "The cost at iteration 200000 is 0.46340584694672954\n",
      "The cost at iteration 201000 is 0.4633827167802937\n",
      "The cost at iteration 202000 is 0.46335994641890205\n",
      "The cost at iteration 203000 is 0.46333753010650386\n",
      "The cost at iteration 204000 is 0.4633154621823814\n",
      "The cost at iteration 205000 is 0.4632937370795079\n",
      "The cost at iteration 206000 is 0.46327234932293454\n",
      "The cost at iteration 207000 is 0.4632512935282071\n",
      "The cost at iteration 208000 is 0.4632305643998097\n",
      "The cost at iteration 209000 is 0.4632101567296378\n",
      "The cost at iteration 210000 is 0.46319006539549684\n",
      "The cost at iteration 211000 is 0.4631702853596299\n",
      "The cost at iteration 212000 is 0.46315081166726924\n",
      "The cost at iteration 213000 is 0.46313163944521535\n",
      "The cost at iteration 214000 is 0.4631127639004402\n",
      "The cost at iteration 215000 is 0.46309418031871696\n",
      "The cost at iteration 216000 is 0.46307588406327194\n",
      "The cost at iteration 217000 is 0.46305787057346254\n",
      "The cost at iteration 218000 is 0.4630401353634774\n",
      "The cost at iteration 219000 is 0.46302267402106007\n",
      "The cost at iteration 220000 is 0.4630054822062557\n",
      "The cost at iteration 221000 is 0.4629885556501792\n",
      "The cost at iteration 222000 is 0.46297189015380624\n",
      "The cost at iteration 223000 is 0.4629554815867843\n",
      "The cost at iteration 224000 is 0.4629393258862665\n",
      "The cost at iteration 225000 is 0.4629234190557647\n",
      "The cost at iteration 226000 is 0.4629077571640234\n",
      "The cost at iteration 227000 is 0.4628923363439131\n",
      "The cost at iteration 228000 is 0.4628771527913448\n",
      "The cost at iteration 229000 is 0.46286220276420126\n",
      "The cost at iteration 230000 is 0.4628474825812889\n",
      "The cost at iteration 231000 is 0.4628329886213075\n",
      "The cost at iteration 232000 is 0.4628187173218381\n",
      "The cost at iteration 233000 is 0.46280466517834895\n",
      "The cost at iteration 234000 is 0.4627908287432185\n",
      "The cost at iteration 235000 is 0.4627772046247762\n",
      "The cost at iteration 236000 is 0.4627637894863594\n",
      "The cost at iteration 237000 is 0.4627505800453875\n",
      "The cost at iteration 238000 is 0.46273757307245184\n",
      "The cost at iteration 239000 is 0.4627247653904219\n",
      "The cost at iteration 240000 is 0.46271215387356673\n",
      "The cost at iteration 241000 is 0.4626997354466924\n",
      "The cost at iteration 242000 is 0.4626875070842938\n",
      "The cost at iteration 243000 is 0.4626754658097218\n",
      "The cost at iteration 244000 is 0.46266360869436507\n",
      "The cost at iteration 245000 is 0.46265193285684514\n",
      "The cost at iteration 246000 is 0.4626404354622271\n",
      "The cost at iteration 247000 is 0.46262911372124244\n",
      "The cost at iteration 248000 is 0.4626179648895271\n",
      "The cost at iteration 249000 is 0.46260698626687086\n",
      "The cost at iteration 250000 is 0.4625961751964816\n",
      "The cost at iteration 251000 is 0.4625855290642611\n",
      "The cost at iteration 252000 is 0.46257504529809407\n",
      "The cost at iteration 253000 is 0.4625647213671492\n",
      "The cost at iteration 254000 is 0.46255455478119234\n",
      "The cost at iteration 255000 is 0.46254454308991216\n",
      "The cost at iteration 256000 is 0.4625346838822564\n",
      "The cost at iteration 257000 is 0.46252497478578014\n",
      "The cost at iteration 258000 is 0.4625154134660063\n",
      "The cost at iteration 259000 is 0.46250599762579514\n",
      "The cost at iteration 260000 is 0.46249672500472677\n",
      "The cost at iteration 261000 is 0.4624875933784926\n",
      "The cost at iteration 262000 is 0.4624786005582983\n",
      "The cost at iteration 263000 is 0.4624697443902769\n",
      "The cost at iteration 264000 is 0.4624610227549116\n",
      "The cost at iteration 265000 is 0.46245243356646853\n",
      "The cost at iteration 266000 is 0.46244397477244026\n",
      "The cost at iteration 267000 is 0.4624356443529974\n",
      "The cost at iteration 268000 is 0.4624274403204502\n",
      "The cost at iteration 269000 is 0.46241936071872\n",
      "The cost at iteration 270000 is 0.4624114036228187\n",
      "The cost at iteration 271000 is 0.46240356713833825\n",
      "The cost at iteration 272000 is 0.46239584940094736\n",
      "The cost at iteration 273000 is 0.46238824857589883\n",
      "The cost at iteration 274000 is 0.4623807628575429\n",
      "The cost at iteration 275000 is 0.46237339046885156\n",
      "The cost at iteration 276000 is 0.46236612966094853\n",
      "The cost at iteration 277000 is 0.4623589787126486\n",
      "The cost at iteration 278000 is 0.46235193593000495\n",
      "The cost at iteration 279000 is 0.46234499964586334\n",
      "The cost at iteration 280000 is 0.46233816821942436\n",
      "The cost at iteration 281000 is 0.46233144003581306\n",
      "The cost at iteration 282000 is 0.4623248135056559\n",
      "The cost at iteration 283000 is 0.4623182870646651\n",
      "The cost at iteration 284000 is 0.46231185917322937\n",
      "The cost at iteration 285000 is 0.46230552831601224\n",
      "The cost at iteration 286000 is 0.4622992930015568\n",
      "The cost at iteration 287000 is 0.46229315176189767\n",
      "The cost at iteration 288000 is 0.46228710315217847\n",
      "The cost at iteration 289000 is 0.4622811457502771\n",
      "The cost at iteration 290000 is 0.4622752781564362\n",
      "The cost at iteration 291000 is 0.4622694989929004\n",
      "The cost at iteration 292000 is 0.4622638069035595\n",
      "The cost at iteration 293000 is 0.4622582005535982\n",
      "The cost at iteration 294000 is 0.4622526786291505\n",
      "The cost at iteration 295000 is 0.4622472398369613\n",
      "The cost at iteration 296000 is 0.4622418829040528\n",
      "The cost at iteration 297000 is 0.4622366065773968\n",
      "The cost at iteration 298000 is 0.46223140962359255\n",
      "The cost at iteration 299000 is 0.46222629082854944\n",
      "The cost at iteration 300000 is 0.46222124899717637\n",
      "The cost at iteration 301000 is 0.4622162829530744\n",
      "The cost at iteration 302000 is 0.4622113915382364\n",
      "The cost at iteration 303000 is 0.4622065736127503\n",
      "The cost at iteration 304000 is 0.46220182805450855\n",
      "The cost at iteration 305000 is 0.4621971537589206\n",
      "The cost at iteration 306000 is 0.4621925496386329\n",
      "The cost at iteration 307000 is 0.4621880146232504\n",
      "The cost at iteration 308000 is 0.4621835476590656\n",
      "The cost at iteration 309000 is 0.46217914770879004\n",
      "The cost at iteration 310000 is 0.4621748137512914\n",
      "The cost at iteration 311000 is 0.4621705447813342\n",
      "The cost at iteration 312000 is 0.4621663398093255\n",
      "The cost at iteration 313000 is 0.46216219786106444\n",
      "The cost at iteration 314000 is 0.46215811797749623\n",
      "The cost at iteration 315000 is 0.46215409921446926\n",
      "The cost at iteration 316000 is 0.462150140642498\n",
      "The cost at iteration 317000 is 0.46214624134652776\n",
      "The cost at iteration 318000 is 0.4621424004257051\n",
      "The cost at iteration 319000 is 0.46213861699315123\n",
      "The cost at iteration 320000 is 0.4621348901757387\n",
      "The cost at iteration 321000 is 0.4621312191138729\n",
      "The cost at iteration 322000 is 0.4621276029612761\n",
      "The cost at iteration 323000 is 0.4621240408847759\n",
      "The cost at iteration 324000 is 0.4621205320640967\n"
     ]
    },
    {
     "name": "stdout",
     "output_type": "stream",
     "text": [
      "The cost at iteration 325000 is 0.46211707569165433\n",
      "The cost at iteration 326000 is 0.4621136709723548\n",
      "The cost at iteration 327000 is 0.4621103171233957\n",
      "The cost at iteration 328000 is 0.4621070133740714\n",
      "The cost at iteration 329000 is 0.46210375896558087\n",
      "The cost at iteration 330000 is 0.4621005531508392\n",
      "The cost at iteration 331000 is 0.4620973951942917\n",
      "The cost at iteration 332000 is 0.4620942843717318\n",
      "The cost at iteration 333000 is 0.4620912199701204\n",
      "The cost at iteration 334000 is 0.46208820128741074\n",
      "The cost at iteration 335000 is 0.46208522763237314\n",
      "The cost at iteration 336000 is 0.46208229832442504\n",
      "The cost at iteration 337000 is 0.4620794126934622\n",
      "The cost at iteration 338000 is 0.4620765700796939\n",
      "The cost at iteration 339000 is 0.46207376983347975\n",
      "The cost at iteration 340000 is 0.4620710113151696\n",
      "The cost at iteration 341000 is 0.4620682938949467\n",
      "The cost at iteration 342000 is 0.4620656169526719\n",
      "The cost at iteration 343000 is 0.4620629798777321\n",
      "The cost at iteration 344000 is 0.4620603820688897\n",
      "The cost at iteration 345000 is 0.46205782293413583\n",
      "The cost at iteration 346000 is 0.4620553018905442\n",
      "The cost at iteration 347000 is 0.46205281836412976\n",
      "The cost at iteration 348000 is 0.4620503717897072\n",
      "The cost at iteration 349000 is 0.46204796161075307\n",
      "The cost at iteration 350000 is 0.46204558727927036\n",
      "The cost at iteration 351000 is 0.4620432482556542\n",
      "The cost at iteration 352000 is 0.4620409440085606\n",
      "The cost at iteration 353000 is 0.462038674014777\n",
      "The cost at iteration 354000 is 0.46203643775909503\n",
      "The cost at iteration 355000 is 0.4620342347341849\n",
      "The cost at iteration 356000 is 0.4620320644404728\n",
      "The cost at iteration 357000 is 0.46202992638601875\n",
      "The cost at iteration 358000 is 0.46202782008639826\n",
      "The cost at iteration 359000 is 0.46202574506458405\n",
      "The cost at iteration 360000 is 0.46202370085083133\n",
      "The cost at iteration 361000 is 0.4620216869825634\n",
      "The cost at iteration 362000 is 0.46201970300426054\n",
      "The cost at iteration 363000 is 0.4620177484673494\n",
      "The cost at iteration 364000 is 0.462015822930095\n",
      "The cost at iteration 365000 is 0.46201392595749446\n",
      "The cost at iteration 366000 is 0.4620120571211717\n",
      "The cost at iteration 367000 is 0.46201021599927466\n",
      "The cost at iteration 368000 is 0.4620084021763735\n",
      "The cost at iteration 369000 is 0.4620066152433611\n",
      "The cost at iteration 370000 is 0.46200485479735465\n",
      "The cost at iteration 371000 is 0.46200312044159864\n",
      "The cost at iteration 372000 is 0.46200141178537024\n",
      "The cost at iteration 373000 is 0.46199972844388554\n",
      "The cost at iteration 374000 is 0.4619980700382071\n",
      "The cost at iteration 375000 is 0.46199643619515346\n",
      "The cost at iteration 376000 is 0.46199482654720997\n",
      "The cost at iteration 377000 is 0.461993240732441\n",
      "The cost at iteration 378000 is 0.4619916783944036\n",
      "The cost at iteration 379000 is 0.46199013918206205\n",
      "The cost at iteration 380000 is 0.46198862274970476\n",
      "The cost at iteration 381000 is 0.46198712875686154\n",
      "The cost at iteration 382000 is 0.4619856568682227\n",
      "The cost at iteration 383000 is 0.4619842067535592\n",
      "The cost at iteration 384000 is 0.4619827780876445\n",
      "The cost at iteration 385000 is 0.46198137055017663\n",
      "The cost at iteration 386000 is 0.4619799838257028\n",
      "The cost at iteration 387000 is 0.4619786176035444\n",
      "The cost at iteration 388000 is 0.4619772715777233\n",
      "The cost at iteration 389000 is 0.4619759454468893\n",
      "The cost at iteration 390000 is 0.46197463891424906\n",
      "The cost at iteration 391000 is 0.4619733516874958\n",
      "The cost at iteration 392000 is 0.46197208347873997\n",
      "The cost at iteration 393000 is 0.4619708340044417\n",
      "The cost at iteration 394000 is 0.4619696029853435\n",
      "The cost at iteration 395000 is 0.4619683901464046\n",
      "The cost at iteration 396000 is 0.46196719521673607\n",
      "The cost at iteration 397000 is 0.46196601792953695\n",
      "The cost at iteration 398000 is 0.4619648580220315\n",
      "The cost at iteration 399000 is 0.4619637152354075\n",
      "The cost at iteration 400000 is 0.4619625893147552\n",
      "The cost at iteration 401000 is 0.46196148000900744\n",
      "The cost at iteration 402000 is 0.461960387070881\n",
      "The cost at iteration 403000 is 0.4619593102568182\n",
      "The cost at iteration 404000 is 0.4619582493269301\n",
      "The cost at iteration 405000 is 0.46195720404493995\n",
      "The cost at iteration 406000 is 0.4619561741781286\n",
      "The cost at iteration 407000 is 0.46195515949727867\n",
      "The cost at iteration 408000 is 0.4619541597766225\n",
      "The cost at iteration 409000 is 0.4619531747937884\n",
      "The cost at iteration 410000 is 0.4619522043297488\n",
      "The cost at iteration 411000 is 0.4619512481687696\n",
      "The cost at iteration 412000 is 0.4619503060983593\n",
      "The cost at iteration 413000 is 0.46194937790921975\n",
      "The cost at iteration 414000 is 0.4619484633951972\n",
      "The cost at iteration 415000 is 0.4619475623532347\n",
      "The cost at iteration 416000 is 0.46194667458332406\n",
      "The cost at iteration 417000 is 0.4619457998884603\n",
      "The cost at iteration 418000 is 0.461944938074595\n",
      "The cost at iteration 419000 is 0.46194408895059186\n",
      "The cost at iteration 420000 is 0.46194325232818173\n",
      "The cost at iteration 421000 is 0.46194242802191954\n",
      "The cost at iteration 422000 is 0.46194161584914056\n",
      "The cost at iteration 423000 is 0.4619408156299189\n",
      "The cost at iteration 424000 is 0.46194002718702526\n",
      "The cost at iteration 425000 is 0.46193925034588595\n",
      "The cost at iteration 426000 is 0.4619384849345426\n",
      "The cost at iteration 427000 is 0.4619377307836123\n",
      "The cost at iteration 428000 is 0.46193698772624886\n",
      "The cost at iteration 429000 is 0.4619362555981036\n",
      "The cost at iteration 430000 is 0.4619355342372877\n",
      "The cost at iteration 431000 is 0.4619348234843352\n",
      "The cost at iteration 432000 is 0.46193412318216537\n",
      "The cost at iteration 433000 is 0.4619334331760476\n",
      "The cost at iteration 434000 is 0.46193275331356476\n",
      "The cost at iteration 435000 is 0.46193208344457876\n",
      "The cost at iteration 436000 is 0.46193142342119536\n",
      "The cost at iteration 437000 is 0.46193077309773123\n",
      "The cost at iteration 438000 is 0.4619301323306789\n",
      "The cost at iteration 439000 is 0.4619295009786755\n",
      "The cost at iteration 440000 is 0.4619288789024687\n",
      "The cost at iteration 441000 is 0.46192826596488606\n",
      "The cost at iteration 442000 is 0.46192766203080254\n",
      "The cost at iteration 443000 is 0.4619270669671102\n",
      "The cost at iteration 444000 is 0.46192648064268754\n",
      "The cost at iteration 445000 is 0.46192590292836905\n",
      "The cost at iteration 446000 is 0.4619253336969161\n",
      "The cost at iteration 447000 is 0.46192477282298783\n",
      "The cost at iteration 448000 is 0.461924220183112\n",
      "The cost at iteration 449000 is 0.4619236756556573\n",
      "The cost at iteration 450000 is 0.46192313912080507\n",
      "The cost at iteration 451000 is 0.4619226104605227\n",
      "The cost at iteration 452000 is 0.4619220895585355\n",
      "The cost at iteration 453000 is 0.4619215763003014\n",
      "The cost at iteration 454000 is 0.4619210705729838\n",
      "The cost at iteration 455000 is 0.46192057226542665\n",
      "The cost at iteration 456000 is 0.46192008126812845\n",
      "The cost at iteration 457000 is 0.46191959747321804\n",
      "The cost at iteration 458000 is 0.4619191207744291\n",
      "The cost at iteration 459000 is 0.4619186510670769\n",
      "The cost at iteration 460000 is 0.46191818824803377\n",
      "The cost at iteration 461000 is 0.4619177322157061\n",
      "The cost at iteration 462000 is 0.4619172828700113\n",
      "The cost at iteration 463000 is 0.46191684011235445\n",
      "The cost at iteration 464000 is 0.46191640384560667\n",
      "The cost at iteration 465000 is 0.46191597397408257\n",
      "The cost at iteration 466000 is 0.46191555040351867\n",
      "The cost at iteration 467000 is 0.46191513304105225\n",
      "The cost at iteration 468000 is 0.4619147217952\n",
      "The cost at iteration 469000 is 0.4619143165758371\n",
      "The cost at iteration 470000 is 0.4619139172941777\n",
      "The cost at iteration 471000 is 0.46191352386275375\n",
      "The cost at iteration 472000 is 0.46191313619539587\n",
      "The cost at iteration 473000 is 0.4619127542072137\n",
      "The cost at iteration 474000 is 0.46191237781457656\n",
      "The cost at iteration 475000 is 0.46191200693509477\n",
      "The cost at iteration 476000 is 0.46191164148760083\n",
      "The cost at iteration 477000 is 0.4619112813921313\n",
      "The cost at iteration 478000 is 0.46191092656990845\n",
      "The cost at iteration 479000 is 0.4619105769433228\n",
      "The cost at iteration 480000 is 0.4619102324359157\n",
      "The cost at iteration 481000 is 0.4619098929723615\n",
      "The cost at iteration 482000 is 0.4619095584784511\n",
      "The cost at iteration 483000 is 0.46190922888107505\n",
      "The cost at iteration 484000 is 0.46190890410820723\n"
     ]
    },
    {
     "name": "stdout",
     "output_type": "stream",
     "text": [
      "The cost at iteration 485000 is 0.4619085840888884\n",
      "The cost at iteration 486000 is 0.4619082687532104\n",
      "The cost at iteration 487000 is 0.4619079580323002\n",
      "The cost at iteration 488000 is 0.4619076518583049\n",
      "The cost at iteration 489000 is 0.461907350164376\n",
      "The cost at iteration 490000 is 0.4619070528846545\n",
      "The cost at iteration 491000 is 0.4619067599542562\n",
      "The cost at iteration 492000 is 0.46190647130925705\n",
      "The cost at iteration 493000 is 0.46190618688667884\n",
      "The cost at iteration 494000 is 0.46190590662447506\n",
      "The cost at iteration 495000 is 0.46190563046151706\n",
      "The cost at iteration 496000 is 0.4619053583375801\n",
      "The cost at iteration 497000 is 0.46190509019333026\n",
      "The cost at iteration 498000 is 0.46190482597031063\n",
      "The cost at iteration 499000 is 0.46190456561092863\n"
     ]
    },
    {
     "data": {
      "image/png": "[encoded data removed]",
      "text/plain": [
       "<Figure size 432x288 with 1 Axes>"
      ]
     },
     "metadata": {
      "needs_background": "light"
     },
     "output_type": "display_data"
    }
   ],
   "source": [
    "_, params, _ = gradient_descent(X_train, y_train, 500000, 0.0022)"
   ]
  },
  {
   "cell_type": "code",
   "execution_count": 585,
   "metadata": {},
   "outputs": [],
   "source": [
    "predictions = predict(X_test, params)"
   ]
  },
  {
   "cell_type": "code",
   "execution_count": 586,
   "metadata": {},
   "outputs": [],
   "source": [
    "from sklearn.metrics import classification_report,confusion_matrix, accuracy_score"
   ]
  },
  {
   "cell_type": "code",
   "execution_count": 587,
   "metadata": {},
   "outputs": [
    {
     "data": {
      "text/plain": [
       "array([[205,  19],\n",
       "       [ 57, 112]])"
      ]
     },
     "execution_count": 587,
     "metadata": {},
     "output_type": "execute_result"
    }
   ],
   "source": [
    "confusion_matrix(y_test, predictions)"
   ]
  },
  {
   "cell_type": "code",
   "execution_count": 588,
   "metadata": {},
   "outputs": [
    {
     "name": "stdout",
     "output_type": "stream",
     "text": [
      "              precision    recall  f1-score   support\n",
      "\n",
      "           0       0.78      0.92      0.84       224\n",
      "           1       0.85      0.66      0.75       169\n",
      "\n",
      "    accuracy                           0.81       393\n",
      "   macro avg       0.82      0.79      0.80       393\n",
      "weighted avg       0.81      0.81      0.80       393\n",
      "\n"
     ]
    }
   ],
   "source": [
    "print(classification_report(y_test, predictions))"
   ]
  },
  {
   "cell_type": "code",
   "execution_count": 589,
   "metadata": {},
   "outputs": [
    {
     "data": {
      "text/plain": [
       "0.806615776081425"
      ]
     },
     "execution_count": 589,
     "metadata": {},
     "output_type": "execute_result"
    }
   ],
   "source": [
    "accuracy_score(y_test, predictions)"
   ]
  },
  {
   "cell_type": "markdown",
   "metadata": {},
   "source": [
    "## Comparing my model with a simple model that predicts survival for females/death for males"
   ]
  },
  {
   "cell_type": "code",
   "execution_count": 568,
   "metadata": {},
   "outputs": [],
   "source": [
    "base_rate_sex_model = titanic.Sex.map({'male':0, 'female':1})"
   ]
  },
  {
   "cell_type": "code",
   "execution_count": 569,
   "metadata": {},
   "outputs": [
    {
     "name": "stdout",
     "output_type": "stream",
     "text": [
      "              precision    recall  f1-score   support\n",
      "\n",
      "           0       0.81      0.84      0.83       809\n",
      "           1       0.73      0.68      0.70       500\n",
      "\n",
      "    accuracy                           0.78      1309\n",
      "   macro avg       0.77      0.76      0.76      1309\n",
      "weighted avg       0.78      0.78      0.78      1309\n",
      "\n"
     ]
    }
   ],
   "source": [
    "print(classification_report(titanic.Survived, base_rate_sex_model))"
   ]
  },
  {
   "cell_type": "code",
   "execution_count": 570,
   "metadata": {},
   "outputs": [
    {
     "data": {
      "text/plain": [
       "0.7799847211611918"
      ]
     },
     "execution_count": 570,
     "metadata": {},
     "output_type": "execute_result"
    }
   ],
   "source": [
    "accuracy_score(titanic.Survived, base_rate_sex_model)"
   ]
  },
  {
   "cell_type": "code",
   "execution_count": null,
   "metadata": {},
   "outputs": [],
   "source": []
  },
  {
   "cell_type": "code",
   "execution_count": null,
   "metadata": {},
   "outputs": [],
   "source": []
  }
 ],
 "metadata": {
  "kernelspec": {
   "display_name": "Python 3",
   "language": "python",
   "name": "python3"
  },
  "language_info": {
   "codemirror_mode": {
    "name": "ipython",
    "version": 3
   },
   "file_extension": ".py",
   "mimetype": "text/x-python",
   "name": "python",
   "nbconvert_exporter": "python",
   "pygments_lexer": "ipython3",
   "version": "3.8.5"
  }
 },
 "nbformat": 4,
 "nbformat_minor": 4
}
